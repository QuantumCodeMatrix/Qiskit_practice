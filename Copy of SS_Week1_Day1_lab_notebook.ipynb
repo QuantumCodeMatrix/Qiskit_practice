{
 "cells": [
  {
   "cell_type": "markdown",
   "id": "51bcdb13",
   "metadata": {},
   "source": [
    "# Week 1 Day 1 lab"
   ]
  },
  {
   "cell_type": "markdown",
   "id": "2d2c435c",
   "metadata": {},
   "source": [
    "## Topics we will cover:\n",
    "1. Printing\n",
    "2. Comments\n",
    "3. Variables\n",
    "4. Arithmetic and comparisons\n",
    "5. Lists\n",
    "6. Conditionals (if statements)"
   ]
  },
  {
   "cell_type": "markdown",
   "id": "6c1293ed",
   "metadata": {},
   "source": [
    "## Printing"
   ]
  },
  {
   "cell_type": "code",
   "execution_count": null,
   "id": "5a7fe869",
   "metadata": {},
   "outputs": [],
   "source": [
    "# Block 1 - Welcome to coding! Try printing \"hello world\""
   ]
  },
  {
   "cell_type": "code",
   "execution_count": null,
   "id": "c5dd2eb4",
   "metadata": {},
   "outputs": [],
   "source": [
    "# Block 2 - Try printing your name! \n",
    "# Print “_____, welcome to quantum camp” where the blank is your name."
   ]
  },
  {
   "cell_type": "markdown",
   "id": "9073d8a2",
   "metadata": {},
   "source": [
    "## Comments"
   ]
  },
  {
   "cell_type": "code",
   "execution_count": null,
   "id": "0343f684",
   "metadata": {},
   "outputs": [],
   "source": [
    "# Block 3 - Try leaving a comment after your code in Block 2. \n",
    "# Did your comment affect the output?"
   ]
  },
  {
   "cell_type": "markdown",
   "id": "21a616c8",
   "metadata": {},
   "source": [
    "## Variables"
   ]
  },
  {
   "cell_type": "code",
   "execution_count": null,
   "id": "21482e88",
   "metadata": {},
   "outputs": [],
   "source": [
    "# Block 4 – Run this block to create the variable cats and store the value 3 in it.\n",
    "\n",
    "cats = 3"
   ]
  },
  {
   "cell_type": "code",
   "execution_count": null,
   "id": "5f1052cd",
   "metadata": {},
   "outputs": [],
   "source": [
    "# Block 5 - Run this block to create the variable cats, store the value 3 in it, and print the variable.\n",
    "\n",
    "cats = 3\n",
    "print(cats)"
   ]
  },
  {
   "cell_type": "code",
   "execution_count": null,
   "id": "e6339712",
   "metadata": {},
   "outputs": [],
   "source": [
    "# Block 6 - Create your own variable! Store a number in it, and then print the variable. \n",
    "# Is the output what you expected?"
   ]
  },
  {
   "cell_type": "code",
   "execution_count": null,
   "id": "7f9c5718",
   "metadata": {},
   "outputs": [],
   "source": [
    "# Block 7 - Run this block to print the name “Sarah”\n",
    "\n",
    "name = \"Sarah\"\n",
    "print(name)"
   ]
  },
  {
   "cell_type": "code",
   "execution_count": null,
   "id": "bb639d6b",
   "metadata": {},
   "outputs": [],
   "source": [
    "# Block 8 - Run this block to print “My name is Sarah”. Try changing the variable name and check the output. \n",
    "# Is it what you expected?\n",
    "\n",
    "name = \"Sarah\"\n",
    "print(\"My name is \"+ name + \".\")"
   ]
  },
  {
   "cell_type": "code",
   "execution_count": null,
   "id": "91a0cbfc",
   "metadata": {},
   "outputs": [],
   "source": [
    "# Block 9 - Store the name of your hometown in a variable. \n",
    "# Print “The name of my hometown is _____” by using a print statement, along with the variable you created."
   ]
  },
  {
   "cell_type": "markdown",
   "id": "0fdabbd9",
   "metadata": {},
   "source": [
    "## Basic arithmetic and Comparisons"
   ]
  },
  {
   "cell_type": "code",
   "execution_count": null,
   "id": "c60e77f8",
   "metadata": {},
   "outputs": [],
   "source": [
    "# Block 10 - Copy down this code and run it. Is the output what you expected? \n",
    "# Try changing the values of x and y. Is the output still what you expect?"
   ]
  },
  {
   "cell_type": "code",
   "execution_count": null,
   "id": "7fa6742a",
   "metadata": {},
   "outputs": [],
   "source": [
    "# Block 11 - Run this block to compare the number of apples and oranges. Is the output what you expected?"
   ]
  },
  {
   "cell_type": "code",
   "execution_count": null,
   "id": "a6764e8f",
   "metadata": {},
   "outputs": [],
   "source": [
    "# Block 12 - Store the number of siblings you have in a variable. Compare your number of siblings to 2. What is the output?"
   ]
  },
  {
   "cell_type": "markdown",
   "id": "fc59509d",
   "metadata": {},
   "source": [
    "## Lists"
   ]
  },
  {
   "cell_type": "code",
   "execution_count": 3,
   "id": "da19f267",
   "metadata": {},
   "outputs": [
    {
     "name": "stdout",
     "output_type": "stream",
     "text": [
      "['M&Ms', 'chocolate', 'skittles']\n"
     ]
    }
   ],
   "source": [
    "#BLOCK 13 - Store a list of your favorite candy in order of preference\n",
    "\n",
    "favorite_candy = [\"M&Ms\", \"chocolate\", \"skittles\"]\n",
    "\n",
    "print(favorite_candy)"
   ]
  },
  {
   "cell_type": "code",
   "execution_count": 4,
   "id": "1253f9bd",
   "metadata": {},
   "outputs": [
    {
     "data": {
      "text/plain": [
       "'skittles'"
      ]
     },
     "execution_count": 4,
     "metadata": {},
     "output_type": "execute_result"
    }
   ],
   "source": [
    "# BLOCK 14 - Print the third item on your list of favorite candies\n",
    "\n",
    "favorite_candy[2]\n"
   ]
  },
  {
   "cell_type": "code",
   "execution_count": 6,
   "id": "d73c8a31",
   "metadata": {},
   "outputs": [
    {
     "name": "stdout",
     "output_type": "stream",
     "text": [
      "['M&Ms', 'chocolate', 'skittles', 'gummy worms', 'gummy worms']\n"
     ]
    }
   ],
   "source": [
    "# BLOCK 15  - Add another item to your list of favorite candy\n",
    "\n",
    "favorite_candy.append(\"gummy worms\")\n",
    "\n",
    "print(favorite_candy)"
   ]
  },
  {
   "cell_type": "code",
   "execution_count": null,
   "id": "0dfd1f12",
   "metadata": {},
   "outputs": [],
   "source": [
    "# BLOCK 16 - After discussion with your TA, copy this code into the notebook and run it"
   ]
  },
  {
   "cell_type": "markdown",
   "id": "caee9224",
   "metadata": {},
   "source": [
    "## If statements"
   ]
  },
  {
   "cell_type": "code",
   "execution_count": null,
   "id": "11c9c816",
   "metadata": {},
   "outputs": [],
   "source": [
    "# BLOCK 17 - Define two variables, \"a\" and \"b\". If a>b, print \"a is greater than b\"\n",
    "\n",
    "\n"
   ]
  },
  {
   "cell_type": "code",
   "execution_count": null,
   "id": "aa4c58a1",
   "metadata": {},
   "outputs": [],
   "source": [
    "# BLOCK 18 - If a>b, print \"a is greater than b\". If a == b, print \"a is equal to b\".\n",
    "# If a<b, print \"a is less than b\".\n",
    "\n"
   ]
  },
  {
   "cell_type": "code",
   "execution_count": null,
   "id": "4b3c9fe4",
   "metadata": {},
   "outputs": [],
   "source": [
    "# BLOCK 19 - Define two variables, \"x\" and \"y\"\n",
    "# If x>y, print the value of x + y\n",
    "# If x<y, print the value of x/y\n",
    "# If x==y, print the value of x*y\n",
    "\n"
   ]
  },
  {
   "cell_type": "code",
   "execution_count": null,
   "id": "5eb0ae4f",
   "metadata": {},
   "outputs": [],
   "source": [
    "# BLOCK 20 - After discussion with your TA, copy this code into the notebook and run it\n",
    "\n"
   ]
  },
  {
   "cell_type": "code",
   "execution_count": null,
   "id": "6cdb4683",
   "metadata": {},
   "outputs": [],
   "source": [
    "# BLOCK 21 - Create a list of your top 5 favorite foods. \n",
    "# If your top favorite food is pizza, print “Your favorite food is pizza.” \n",
    "# If your top favorite food is not pizza, print “Your favorite food is not pizza.”"
   ]
  }
 ],
 "metadata": {
  "kernelspec": {
   "display_name": "Python 3",
   "language": "python",
   "name": "python3"
  },
  "language_info": {
   "codemirror_mode": {
    "name": "ipython",
    "version": 3
   },
   "file_extension": ".py",
   "mimetype": "text/x-python",
   "name": "python",
   "nbconvert_exporter": "python",
   "pygments_lexer": "ipython3",
   "version": "3.8.10"
  }
 },
 "nbformat": 4,
 "nbformat_minor": 5
}
