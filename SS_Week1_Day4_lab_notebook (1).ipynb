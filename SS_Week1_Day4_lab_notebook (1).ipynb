{
 "cells": [
  {
   "cell_type": "code",
   "execution_count": null,
   "id": "electronic-tours",
   "metadata": {},
   "outputs": [],
   "source": [
    "%matplotlib inline\n",
    "# Importing standard Qiskit libraries\n",
    "from qiskit import QuantumCircuit, execute, Aer, IBMQ\n",
    "from qiskit.compiler import transpile, assemble\n",
    "from qiskit.tools.jupyter import *\n",
    "from qiskit.visualization import *\n",
    "from ibm_quantum_widgets import *\n",
    "\n",
    "# Loading your IBM Q account(s)\n",
    "provider = IBMQ.load_account()\n",
    "\n",
    "from qiskit.visualization import visualize_transition\n",
    "from qiskit_textbook.tools import array_to_latex\n",
    "\n",
    "import warnings\n",
    "warnings.filterwarnings(\"ignore\")"
   ]
  },
  {
   "cell_type": "markdown",
   "id": "impressed-program",
   "metadata": {},
   "source": [
    "# Summer School Week 1, Day 4\n",
    "\n",
    "\n",
    "# Part 1 - Quantum Gates\n",
    "\n",
    "First, let's review what each gate does."
   ]
  },
  {
   "cell_type": "markdown",
   "id": "differential-testament",
   "metadata": {},
   "source": [
    "## The X gate\n",
    "\n",
    "The X gate rotates the state about the x-axis. Run the code below to try it!"
   ]
  },
  {
   "cell_type": "code",
   "execution_count": null,
   "id": "powered-terrorism",
   "metadata": {},
   "outputs": [],
   "source": [
    "#BLOCK 1 - run this block - there's nothing you need to code here.\n",
    "\n",
    "qc=QuantumCircuit(1)\n",
    "qc.x(0)\n",
    "visualize_transition(qc, trace=True, fpg=50, spg=2)"
   ]
  },
  {
   "cell_type": "markdown",
   "id": "classical-forth",
   "metadata": {},
   "source": [
    "## The H gate\n",
    "\n",
    "The H gate creates a superposition of the $|0\\rangle$ and $|1\\rangle$ states. Run the code below to try it!"
   ]
  },
  {
   "cell_type": "code",
   "execution_count": null,
   "id": "caroline-standing",
   "metadata": {},
   "outputs": [],
   "source": [
    "#BLOCK 2 - run this block - there's nothing you need to code here.\n",
    "\n",
    "qc=QuantumCircuit(1)\n",
    "qc.h(0)\n",
    "visualize_transition(qc, trace=True, fpg=50, spg=2)"
   ]
  },
  {
   "cell_type": "markdown",
   "id": "spatial-villa",
   "metadata": {},
   "source": [
    "# Part 2 -  Coding a quantum circuit\n",
    "\n",
    "In order to visualize the gate rotations, we have been coding quantum circuits. Let's see what each line of code means. \n",
    "\n",
    "### Step 1 - Define your quantum circuit. \n",
    "\n",
    "To define a quantum circuit, we use the function `qc=QuantumCircuit()`. The number in the parentheses tells you how many qubits you will have in your circuit. "
   ]
  },
  {
   "cell_type": "code",
   "execution_count": null,
   "id": "approved-machinery",
   "metadata": {},
   "outputs": [],
   "source": [
    "# BLOCK 3 - define your 1-qubit quantum circuit here\n"
   ]
  },
  {
   "cell_type": "markdown",
   "id": "negative-hypothetical",
   "metadata": {},
   "source": [
    "## Step 2 - Add gates\n",
    "\n",
    "Add X-gate - `qc.x()` (Number in parentheses is the qubit you're applying the gate to.)\n"
   ]
  },
  {
   "cell_type": "code",
   "execution_count": null,
   "id": "handmade-therapist",
   "metadata": {},
   "outputs": [],
   "source": [
    "# BLOCK 4 - Add the X gate to your quantum circuit\n"
   ]
  },
  {
   "cell_type": "markdown",
   "id": "velvet-tobacco",
   "metadata": {},
   "source": [
    "## Step 3 - Visualizing your quantum circuit\n",
    "\n",
    "Now let's see what it looks like! We use the following function to show the visualization. \n",
    "\n",
    "`visualize_transition(qc, trace=True, fpg=50, spg=2)`\n"
   ]
  },
  {
   "cell_type": "code",
   "execution_count": null,
   "id": "funny-calcium",
   "metadata": {},
   "outputs": [],
   "source": [
    "# BLOCK 5 - Visualize your quantum circuit here\n"
   ]
  },
  {
   "cell_type": "markdown",
   "id": "aggressive-allowance",
   "metadata": {},
   "source": [
    "## Adding multiple gates\n",
    "\n"
   ]
  },
  {
   "cell_type": "code",
   "execution_count": null,
   "id": "attempted-secondary",
   "metadata": {},
   "outputs": [],
   "source": [
    "# BLOCK 6 - Apply the X gate and then the H gate to a quantum circuit. \n",
    "\n",
    "# Define quantum circuit here\n",
    "\n",
    "# Add gates here\n",
    "\n",
    "#Visualize here"
   ]
  },
  {
   "cell_type": "code",
   "execution_count": null,
   "id": "sacred-rating",
   "metadata": {},
   "outputs": [],
   "source": [
    "# BLOCK 7 - Applying the H gate and then the X gate to the |0> state. \n",
    "\n",
    "# Define quantum circuit here\n",
    "\n",
    "# Add gates here\n",
    "\n",
    "#Visualize here"
   ]
  },
  {
   "cell_type": "markdown",
   "id": "immediate-tourist",
   "metadata": {},
   "source": [
    "## The Z gate\n"
   ]
  },
  {
   "cell_type": "code",
   "execution_count": null,
   "id": "spatial-mapping",
   "metadata": {},
   "outputs": [],
   "source": [
    "# BLOCK 8 - Apply the Z gate to the |0> state. \n",
    "\n",
    "# Define quantum circuit here\n",
    "\n",
    "# Add gates here\n",
    "\n",
    "#Visualize here"
   ]
  },
  {
   "cell_type": "code",
   "execution_count": null,
   "id": "spectacular-robertson",
   "metadata": {},
   "outputs": [],
   "source": [
    "# BLOCK 9 - Create a quantum circuit that will show a rotation about the Z-axis.\n"
   ]
  },
  {
   "cell_type": "markdown",
   "id": "lesser-jerusalem",
   "metadata": {},
   "source": [
    "## The Y gate\n",
    "\n",
    "What do you think the Y gate does? How is it implemented? Try visualizing it!"
   ]
  },
  {
   "cell_type": "code",
   "execution_count": null,
   "id": "typical-garage",
   "metadata": {},
   "outputs": [],
   "source": [
    "# BLOCK 10 - Create your quantum circuit that uses the Y-gate here.\n"
   ]
  },
  {
   "cell_type": "markdown",
   "id": "cdee6432",
   "metadata": {},
   "source": [
    "## Challenge problem"
   ]
  },
  {
   "cell_type": "code",
   "execution_count": null,
   "id": "weighted-honor",
   "metadata": {},
   "outputs": [],
   "source": [
    "# BLOCK 11 - How many different ways can you find to make the |-> state?\n"
   ]
  },
  {
   "cell_type": "markdown",
   "id": "bacterial-bracelet",
   "metadata": {},
   "source": [
    "# Part 3 - Drawing a quantum circuit\n",
    "\n",
    "We can show a schematic of the gates in our quantum circuit by using the command `qc.draw()`. "
   ]
  },
  {
   "cell_type": "code",
   "execution_count": null,
   "id": "retained-blood",
   "metadata": {},
   "outputs": [],
   "source": [
    "# BLOCK 12 - run this cell to see how the qc.draw() function works\n",
    "\n",
    "qc=QuantumCircuit(1)\n",
    "qc.x(0)\n",
    "qc.h(0)\n",
    "qc.draw()"
   ]
  },
  {
   "cell_type": "code",
   "execution_count": null,
   "id": "cb27598f",
   "metadata": {},
   "outputs": [],
   "source": [
    "# BLOCK 13 - Create a quantum circuit that uses 3 different gates and draw it\n",
    "\n"
   ]
  },
  {
   "cell_type": "markdown",
   "id": "favorite-papua",
   "metadata": {},
   "source": [
    "## Part 4 - Finding the output using the statevector simulator"
   ]
  },
  {
   "cell_type": "code",
   "execution_count": null,
   "id": "contrary-egyptian",
   "metadata": {},
   "outputs": [],
   "source": [
    "# BLOCK 14 - Define a quantum circuit and apply the X-gate\n"
   ]
  },
  {
   "cell_type": "code",
   "execution_count": null,
   "id": "actual-russia",
   "metadata": {},
   "outputs": [],
   "source": [
    "# BLOCK 15 - Run this cell to see how to get the result\n",
    "\n",
    "svsim = Aer.get_backend('statevector_simulator') #tell it which simulator you want to use\n",
    "job = execute(qc,svsim) #put in the name of your quantum circuit\n",
    "result = job.result() #lets us obtain the output\n"
   ]
  },
  {
   "cell_type": "code",
   "execution_count": null,
   "id": "2b6c79d1",
   "metadata": {},
   "outputs": [],
   "source": [
    "# BLOCK 16 - Run this cell to see how to display the result\n",
    "\n",
    "state = result.get_statevector() #gets the vector form of the output\n",
    "plot_bloch_multivector(state) #shows us the output on the Bloch sphere"
   ]
  },
  {
   "cell_type": "code",
   "execution_count": null,
   "id": "premier-study",
   "metadata": {},
   "outputs": [],
   "source": [
    "# BLOCK 17 - Make a quantum circuit that gives the |+> state as output. Show the output on the Bloch sphere\n",
    "\n",
    "# Step 1 - Define your quantum circuit.\n",
    "\n",
    "# Step 2 - Add gates\n",
    "\n",
    "# Optional - draw the quantum circuit\n",
    "\n",
    "# Step 3 - Visualize the output\n"
   ]
  },
  {
   "cell_type": "code",
   "execution_count": null,
   "id": "controversial-mistake",
   "metadata": {},
   "outputs": [],
   "source": [
    "# BLOCK 18 - Find the output when we send a |0> state through an H gate followed by an X gate\n",
    "\n"
   ]
  },
  {
   "cell_type": "markdown",
   "id": "imposed-pharmacy",
   "metadata": {},
   "source": [
    "## Plotting the result\n"
   ]
  },
  {
   "cell_type": "code",
   "execution_count": null,
   "id": "working-heath",
   "metadata": {},
   "outputs": [],
   "source": [
    "# BLOCK 19 - Run this cell to see how to obtain a histogram of the output\n",
    "\n",
    "# define the quantum circuit\n",
    "qc=QuantumCircuit(1)\n",
    "\n",
    "# apply gates\n",
    "qc.x(0)\n",
    "\n",
    "# call the statevector simulator\n",
    "svsim = Aer.get_backend('statevector_simulator') #tell it which simulator you want to use\n",
    "job = execute(qc,svsim,shots=100) #put in the name of your quantum circuit. Shots tells you how many times you want it to run.\n",
    "result = job.result()\n",
    "\n",
    "\n",
    "#use these two lines to see the histogram\n",
    "counts = result.get_counts(qc)\n",
    "plot_histogram(counts)"
   ]
  },
  {
   "cell_type": "code",
   "execution_count": null,
   "id": "metropolitan-chassis",
   "metadata": {},
   "outputs": [],
   "source": [
    "# BLOCK 20 - Define a quantum circuit that puts a |0> state into the |+> state. \n",
    "# Then visualize the output as a histogram\n",
    "\n"
   ]
  },
  {
   "cell_type": "code",
   "execution_count": null,
   "id": "e08378ed",
   "metadata": {},
   "outputs": [],
   "source": [
    "# BLOCK 21 - Define a quantum circuit that |0> state into the |-> state. \n",
    "# Then visualize the output as a histogram\n"
   ]
  },
  {
   "cell_type": "markdown",
   "id": "acoustic-catholic",
   "metadata": {},
   "source": [
    "## Congratulations, you know how to code a quantum circuit!!! 😊\n"
   ]
  }
 ],
 "metadata": {
  "kernelspec": {
   "display_name": "Python 3",
   "language": "python",
   "name": "python3"
  },
  "language_info": {
   "codemirror_mode": {
    "name": "ipython",
    "version": 3
   },
   "file_extension": ".py",
   "mimetype": "text/x-python",
   "name": "python",
   "nbconvert_exporter": "python",
   "pygments_lexer": "ipython3",
   "version": "3.8.10"
  }
 },
 "nbformat": 4,
 "nbformat_minor": 5
}
