{
 "cells": [
  {
   "cell_type": "code",
   "execution_count": null,
   "id": "assured-personality",
   "metadata": {
    "id": "assured-personality"
   },
   "outputs": [],
   "source": [
    "%matplotlib inline\n",
    "# Importing standard Qiskit libraries\n",
    "from qiskit import QuantumCircuit, execute, Aer, IBMQ\n",
    "from qiskit.compiler import transpile, assemble\n",
    "from qiskit.tools.jupyter import *\n",
    "from qiskit.visualization import *\n",
    "from ibm_quantum_widgets import *\n",
    "from qiskit_textbook.tools import array_to_latex\n",
    "\n",
    "# Loading your IBM Q account(s)\n",
    "provider = IBMQ.load_account()"
   ]
  },
  {
   "cell_type": "markdown",
   "id": "selected-ceramic",
   "metadata": {
    "id": "selected-ceramic"
   },
   "source": [
    "# Day 5 - Two-qubit quantum circuits and entangled states\n",
    "\n"
   ]
  },
  {
   "cell_type": "markdown",
   "id": "geological-grace",
   "metadata": {
    "id": "geological-grace"
   },
   "source": [
    "## Coding cheat sheet:\n",
    "\n",
    "Defining a quantum circuit: \n",
    "\n",
    "`qc = QuantumCircuit(1)` Define a 1 qubit quantum circuit <br>\n",
    "\n",
    "`qc.x(0)` Add an X gate <br>\n",
    "`qc.h(0)` Add an H gate <br>\n",
    "`qc.z(0)` Add a Z gate <br>\n",
    "`qc.y(0)` Add a Y gate <br>\n",
    "\n",
    "`qc.draw()` Draw the circuit <br>\n",
    "\n",
    "Find the output of a quantum circuit:<br>\n",
    "\n",
    "`svsim = Aer.get_backend('statevector_simulator')` # Tell it which simulator you want to use <br>\n",
    "`job = execute(qc,svsim)` # Put in the name of your quantum circuit where it says qc<br>\n",
    "`result = job.result()` <br>\n",
    "\n",
    "\n",
    "See the output on the Bloch sphere:<br>\n",
    "`state = result.get_statevector()` <br>\n",
    "`plot_bloch_multivector(state)`<br>\n",
    "\n",
    "\n",
    "See the output in histogram form: <br>\n",
    "`counts = result.get_counts(qc)` <br>\n",
    "`plot_histogram(counts)` <br>\n",
    "\n",
    "Using a real quantum computer:\n",
    "\n",
    "`job = execute(qc, backend=backend, shots=100)` <br>\n",
    "`result = job.result()` <br>\n",
    "`counts = result.get_counts(qc)` <br>\n",
    "`plot_histogram(counts)` \n",
    "\n"
   ]
  },
  {
   "cell_type": "markdown",
   "id": "crazy-holocaust",
   "metadata": {
    "id": "crazy-holocaust"
   },
   "source": [
    "## 2 qubit quantum circuits\n"
   ]
  },
  {
   "cell_type": "code",
   "execution_count": 1,
   "id": "several-tractor",
   "metadata": {
    "id": "several-tractor",
    "outputId": "d13ffa5a-1928-44c5-d476-8e2291e5c4a5"
   },
   "outputs": [],
   "source": [
    "# BLOCK 1  - Define and draw a 2-qubit quantum circuit and draw it. Don't add any gates yet.\n"
   ]
  },
  {
   "cell_type": "code",
   "execution_count": null,
   "id": "beginning-serve",
   "metadata": {
    "id": "beginning-serve",
    "outputId": "3090e86f-bee1-432e-b004-8f2993e5645c"
   },
   "outputs": [],
   "source": [
    "# BLOCK 2 - Define a 2-qubit quantum circuit and add an X-gate to q0. Draw the circuit.\n"
   ]
  },
  {
   "cell_type": "code",
   "execution_count": null,
   "id": "9316e177",
   "metadata": {
    "id": "9316e177"
   },
   "outputs": [],
   "source": [
    "# BLOCK 3 - Define a 2-qubit quantum circuit and add an X-gate to q1. Draw the circuit.\n",
    "\n"
   ]
  },
  {
   "cell_type": "code",
   "execution_count": null,
   "id": "2bb0c0a9",
   "metadata": {
    "id": "2bb0c0a9"
   },
   "outputs": [],
   "source": [
    "# BLOCK 4 - Find the histogram form of the output of the quantum circuit from BLOCK 3.\n",
    "\n"
   ]
  },
  {
   "cell_type": "code",
   "execution_count": null,
   "id": "innovative-column",
   "metadata": {
    "id": "innovative-column"
   },
   "outputs": [],
   "source": [
    "# BLOCK 5 - Define a 2-qubit quantum circuit and add an H gate to q0. Draw the circuit.\n",
    "\n"
   ]
  },
  {
   "cell_type": "code",
   "execution_count": null,
   "id": "cooperative-poetry",
   "metadata": {
    "id": "cooperative-poetry"
   },
   "outputs": [],
   "source": [
    "# BLOCK 6 - Plot the histogram for the quantum circuit above.\n"
   ]
  },
  {
   "cell_type": "code",
   "execution_count": null,
   "id": "6LqTbi-22jUF",
   "metadata": {
    "id": "6LqTbi-22jUF"
   },
   "outputs": [],
   "source": [
    "# BLOCK 7 - Define a 2-qubit quantum circuit and add an H gate to q0 and an X gate to q1. Draw the circuit."
   ]
  },
  {
   "cell_type": "code",
   "execution_count": null,
   "id": "massive-astronomy",
   "metadata": {
    "id": "massive-astronomy"
   },
   "outputs": [],
   "source": [
    "# BLOCK 8 - Plot the histogram for the quantum circuit above.\n",
    "\n"
   ]
  },
  {
   "cell_type": "markdown",
   "id": "specified-tennis",
   "metadata": {
    "id": "specified-tennis"
   },
   "source": [
    "## The CNOT gate\n"
   ]
  },
  {
   "cell_type": "code",
   "execution_count": null,
   "id": "ceramic-phoenix",
   "metadata": {
    "id": "ceramic-phoenix",
    "outputId": "f7411346-3d71-4419-b293-fe693a4eb9e2"
   },
   "outputs": [],
   "source": [
    "# BLOCK 9 - Run this cell to see how to use the CNOT gate\n",
    "\n",
    "qc=QuantumCircuit(2)\n",
    "qc.cx(0,1)\n",
    "qc.draw()"
   ]
  },
  {
   "cell_type": "code",
   "execution_count": null,
   "id": "first-london",
   "metadata": {
    "id": "first-london"
   },
   "outputs": [],
   "source": [
    "# BLOCK 10 - Plot the histogram of the quantum circuit above.\n",
    "\n"
   ]
  },
  {
   "cell_type": "code",
   "execution_count": null,
   "id": "sunrise-communist",
   "metadata": {
    "id": "sunrise-communist"
   },
   "outputs": [],
   "source": [
    "# BLOCK 11 - Define a 2 qubit quantum circuit with an X gate on q1, \n",
    "# followed by a CX gate with q0 as the control qubit and q1 as the target qubit.\n",
    "# Draw the circuit\n"
   ]
  },
  {
   "cell_type": "code",
   "execution_count": null,
   "id": "71ad8d92",
   "metadata": {
    "id": "71ad8d92"
   },
   "outputs": [],
   "source": [
    "# BLOCK 12 - Plot the histogram of the quantum circuit above."
   ]
  },
  {
   "cell_type": "code",
   "execution_count": null,
   "id": "PAeR_o3y4z4X",
   "metadata": {
    "id": "PAeR_o3y4z4X"
   },
   "outputs": [],
   "source": [
    "# BLOCK 13 - Create a 2 qubit quantum circuit with X gates on both q1 and q0, \n",
    "# followed by a CX gate with q0 as the control qubit and q1 as the target qubit.\n",
    "# Plot the histogram of this quantum circuit."
   ]
  },
  {
   "cell_type": "markdown",
   "id": "801ac037",
   "metadata": {},
   "source": [
    "## Using a real quantum computer"
   ]
  },
  {
   "cell_type": "code",
   "execution_count": null,
   "id": "YdQun6sz5SQg",
   "metadata": {
    "id": "YdQun6sz5SQg"
   },
   "outputs": [],
   "source": [
    "# BLOCK 14 - Import libraries and find the least busy quantum computer\n",
    "\n",
    "#Import IBMQ\n",
    "from qiskit import IBMQ\n",
    "from qiskit.providers.ibmq import least_busy\n",
    "\n",
    "#ask for the least busy quantum computer\n",
    "provider = IBMQ.get_provider(hub='ibm-q')\n",
    "backend = least_busy(provider.backends(filters=lambda x: x.configuration().n_qubits >= 2 \n",
    "                                       and not x.configuration().simulator \n",
    "                                       and x.status().operational==True))\n",
    "#tell us what the least busy one is\n",
    "print(\"least busy backend: \", backend)"
   ]
  },
  {
   "cell_type": "code",
   "execution_count": null,
   "id": "33ff7961",
   "metadata": {},
   "outputs": [],
   "source": [
    "# BLOCK 15 - Run the quantum circuit on a quantum computer (the least busy one found above)\n",
    "\n",
    "# Create the same circuit as block 13\n",
    "\n",
    "# Measure all our qubits\n",
    "qc.measure_all()\n",
    "\n",
    "# send the job to a quantum computer\n",
    "job = execute(qc, backend=backend, shots=100)\n",
    "result = job.result()\n",
    "\n",
    "#then we plot our histogram as usual\n"
   ]
  },
  {
   "cell_type": "markdown",
   "id": "09336654",
   "metadata": {},
   "source": [
    "## Optional content - entanglement"
   ]
  },
  {
   "cell_type": "code",
   "execution_count": null,
   "id": "e9938d90",
   "metadata": {},
   "outputs": [],
   "source": [
    "# BLOCK 16 - Create a 2-qubit quantum circuit with an H gate on the first qubit\n",
    "# followed by a CX gate (q0 = control, q1 = target)\n",
    "# plot the result as a histogram\n",
    "\n"
   ]
  },
  {
   "cell_type": "code",
   "execution_count": null,
   "id": "bbdfe2f6",
   "metadata": {},
   "outputs": [],
   "source": [
    "# BLOCK 17 - Run the above circuit on a quantum computer. Is there anything unexpected about the result?\n"
   ]
  },
  {
   "cell_type": "code",
   "execution_count": null,
   "id": "1a6d8526",
   "metadata": {},
   "outputs": [],
   "source": [
    "# BLOCK 17 - In Block 16, we made an entangled state where both qubits were |0> or both qubits were |1>\n",
    "# can you make an entangled state where both qubits are always in opposite states (if one is |0> the other will be |1>)?\n",
    "\n"
   ]
  },
  {
   "cell_type": "code",
   "execution_count": null,
   "id": "5e9202fa",
   "metadata": {},
   "outputs": [],
   "source": []
  }
 ],
 "metadata": {
  "colab": {
   "name": "Week 2 Day 4.ipynb",
   "provenance": []
  },
  "kernelspec": {
   "display_name": "Python 3",
   "language": "python",
   "name": "python3"
  },
  "language_info": {
   "codemirror_mode": {
    "name": "ipython",
    "version": 3
   },
   "file_extension": ".py",
   "mimetype": "text/x-python",
   "name": "python",
   "nbconvert_exporter": "python",
   "pygments_lexer": "ipython3",
   "version": "3.8.10"
  }
 },
 "nbformat": 4,
 "nbformat_minor": 5
}
