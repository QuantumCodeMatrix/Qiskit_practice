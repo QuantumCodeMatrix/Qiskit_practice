{
 "cells": [
  {
   "cell_type": "code",
   "execution_count": 1,
   "id": "assured-personality",
   "metadata": {
    "id": "assured-personality"
   },
   "outputs": [],
   "source": [
    "%matplotlib inline\n",
    "# Importing standard Qiskit libraries\n",
    "from qiskit import QuantumCircuit, execute, Aer, IBMQ\n",
    "from qiskit.compiler import transpile, assemble\n",
    "from qiskit.tools.jupyter import *\n",
    "from qiskit.visualization import *\n",
    "from ibm_quantum_widgets import *\n",
    "from qiskit_textbook.tools import array_to_latex\n",
    "\n",
    "# Loading your IBM Q account(s)\n",
    "provider = IBMQ.load_account()"
   ]
  },
  {
   "cell_type": "markdown",
   "id": "selected-ceramic",
   "metadata": {
    "id": "selected-ceramic"
   },
   "source": [
    "# Week 2 day 3 - Two-qubit quantum circuits\n",
    "\n"
   ]
  },
  {
   "cell_type": "markdown",
   "id": "geological-grace",
   "metadata": {
    "id": "geological-grace"
   },
   "source": [
    "## Coding cheat sheet:\n",
    "\n",
    "Defining a quantum circuit: \n",
    "\n",
    "`qc = QuantumCircuit(1)` Define a 1 qubit quantum circuit <br>\n",
    "\n",
    "`qc.x(0)` Add an X gate <br>\n",
    "`qc.h(0)` Add an H gate <br>\n",
    "`qc.z(0)` Add a Z gate <br>\n",
    "`qc.y(0)` Add a Y gate <br>\n",
    "\n",
    "`qc.draw()` Draw the circuit <br>\n",
    "\n",
    "Set up the statevector simulator (Do this no matter which way you want to see the output):<br>\n",
    "\n",
    "`svsim = Aer.get_backend('statevector_simulator')` # Tell it which simulator you want to use <br>\n",
    "`job = execute(qc,svsim)` # Put in the name of your quantum circuit where it says qc<br>\n",
    "`result = job.result()` <br>\n",
    "\n",
    "\n",
    "See the output on the Bloch sphere:<br>\n",
    "`state = result.get_statevector()` <br>\n",
    "`plot_bloch_multivector(state)`<br>\n",
    "\n",
    "See the output in vector form:<br>\n",
    "`state = result.get_statevector()` <br>\n",
    "`array_to_latex(state, pretext=\"\\\\text{Statevector} = \")` <br>\n",
    "\n",
    "See the output in histogram form: <br>\n",
    "`counts = result.get_counts(qc)` <br>\n",
    "`plot_histogram(counts)` <br>\n",
    "\n",
    "Using a real quantum computer:\n",
    "\n",
    "`job = execute(qc, backend=backend, shots=100)`\n",
    "\n",
    "`result = job.result()` <br>\n",
    "`counts = result.get_counts(qc)` <br>\n",
    "`plot_histogram(counts)` \n",
    "\n"
   ]
  },
  {
   "cell_type": "markdown",
   "id": "crazy-holocaust",
   "metadata": {
    "id": "crazy-holocaust"
   },
   "source": [
    "## Review of 1 qubit quantum circuits\n"
   ]
  },
  {
   "cell_type": "code",
   "execution_count": 2,
   "id": "several-tractor",
   "metadata": {
    "id": "several-tractor"
   },
   "outputs": [],
   "source": [
    "# Block 1 – define and draw a 2-qubit quantum circuit. You don’t have to add any gates yet.\n",
    "qc = QuantumCircuit(2)"
   ]
  },
  {
   "cell_type": "code",
   "execution_count": 9,
   "id": "beginning-serve",
   "metadata": {
    "id": "beginning-serve"
   },
   "outputs": [
    {
     "name": "stdout",
     "output_type": "stream",
     "text": [
      "\n"
     ]
    },
    {
     "data": {
      "image/png": "[encoded data removed]",
      "text/plain": [
       "<Figure size 146.652x144.48 with 1 Axes>"
      ]
     },
     "metadata": {},
     "output_type": "display_data"
    }
   ],
   "source": [
    "# Block 2 – Define a 2-qubit quantum circuit and add an X gate on q0 and draw the circuit.\n",
    "qc = QuantumCircuit(2)\n",
    "qc.x(0)\n",
    "qc.draw()\n",
    "print()"
   ]
  },
  {
   "cell_type": "code",
   "execution_count": 10,
   "id": "9316e177",
   "metadata": {
    "id": "9316e177"
   },
   "outputs": [
    {
     "name": "stdout",
     "output_type": "stream",
     "text": [
      "\n"
     ]
    },
    {
     "data": {
      "image/png": "[encoded data removed]",
      "text/plain": [
       "<Figure size 146.652x144.48 with 1 Axes>"
      ]
     },
     "metadata": {},
     "output_type": "display_data"
    }
   ],
   "source": [
    "# BLOCK 3 - Create and draw a 2 qubit quantum circuit with an X gate on q1 and no gates on q0.\n",
    "qc = QuantumCircuit(2)\n",
    "qc.x(1)\n",
    "qc.draw()\n",
    "print()"
   ]
  },
  {
   "cell_type": "code",
   "execution_count": 12,
   "id": "2bb0c0a9",
   "metadata": {
    "id": "2bb0c0a9"
   },
   "outputs": [
    {
     "name": "stdout",
     "output_type": "stream",
     "text": [
      "\n"
     ]
    },
    {
     "data": {
      "text/latex": [
       "$\\displaystyle \n",
       "\\text{Statevector} = \\begin{bmatrix}\n",
       "0 \\\\\n",
       "0 \\\\\n",
       "1 \\\\\n",
       "0\n",
       "\\end{bmatrix}\n",
       "$"
      ],
      "text/plain": [
       "<IPython.core.display.Math object>"
      ]
     },
     "metadata": {},
     "output_type": "display_data"
    },
    {
     "data": {
      "image/png": "[encoded data removed]",
      "text/plain": [
       "<Figure size 504x360 with 1 Axes>"
      ]
     },
     "metadata": {
      "needs_background": "light"
     },
     "output_type": "display_data"
    },
    {
     "data": {
      "image/png": "[encoded data removed]",
      "text/plain": [
       "<Figure size 146.652x144.48 with 1 Axes>"
      ]
     },
     "metadata": {},
     "output_type": "display_data"
    }
   ],
   "source": [
    "# BLOCK 4 - Run the circuit in Block 3 using statevector simulator and find the histogram form of the output\n",
    "qc = QuantumCircuit(2)\n",
    "qc.x(1)\n",
    "\n",
    "svsim = Aer.get_backend('statevector_simulator') # Tell it which simulator you want to use\n",
    "job = execute(qc,svsim) # Put in the name of your quantum circuit where it says qc\n",
    "result = job.result()\n",
    "result = job.result()\n",
    "\n",
    "counts = result.get_counts(qc)\n",
    "plot_histogram(counts) \n",
    "\n",
    "qc.draw()\n",
    "print()\n",
    "\n",
    "state = result.get_statevector()\n",
    "array_to_latex(state, pretext=\"\\\\text{Statevector} = \")"
   ]
  },
  {
   "cell_type": "code",
   "execution_count": 13,
   "id": "innovative-column",
   "metadata": {
    "id": "innovative-column"
   },
   "outputs": [
    {
     "data": {
      "text/latex": [
       "$\\displaystyle \n",
       "\\text{Statevector} = \\begin{bmatrix}\n",
       "0 \\\\\n",
       "0 \\\\\n",
       "1 \\\\\n",
       "0\n",
       "\\end{bmatrix}\n",
       "$"
      ],
      "text/plain": [
       "<IPython.core.display.Math object>"
      ]
     },
     "metadata": {},
     "output_type": "display_data"
    }
   ],
   "source": [
    "# BLOCK 5 - Run the circuit in block 3 using statevector simulator and obtain the statevector form of the output\n",
    "#define 2 qubits\n",
    "\n",
    "qc = QuantumCircuit(2)\n",
    "qc.x(1)\n",
    "\n",
    "#bring up simulator and run it\n",
    "\n",
    "svsim = Aer.get_backend('statevector_simulator') # Tell it which simulator you want to use\n",
    "job = execute(qc,svsim) # Put in the name of your quantum circuit where it says qc\n",
    "result = job.result()\n",
    "result = job.result()\n",
    "\n",
    "#show results from simulator as statevector\n",
    "\n",
    "state = result.get_statevector()\n",
    "array_to_latex(state, pretext=\"\\\\text{Statevector} = \")"
   ]
  },
  {
   "cell_type": "code",
   "execution_count": 18,
   "id": "cooperative-poetry",
   "metadata": {
    "id": "cooperative-poetry",
    "scrolled": true
   },
   "outputs": [
    {
     "name": "stdout",
     "output_type": "stream",
     "text": [
      "\n"
     ]
    },
    {
     "data": {
      "image/png": "[encoded data removed]",
      "text/plain": [
       "<Figure size 206.852x144.48 with 1 Axes>"
      ]
     },
     "metadata": {},
     "output_type": "display_data"
    }
   ],
   "source": [
    "# BLOCK 6 - Create a 2 qubit quantum circuit with an H gate on q0 and a CX gate with q0 as control bit and q1 as target bit.\n",
    "# Draw the circuit\n",
    "qc = QuantumCircuit(2)\n",
    "\n",
    "qc.h(0)\n",
    "#cx first is the control second is the controlled qubit\n",
    "qc.cx(0,1)\n",
    "qc.draw()\n",
    "\n",
    "#prevents double printing of objects/results\n",
    "print()\n",
    "\n",
    "#run sim \n",
    "svsim = Aer.get_backend('statevector_simulator') # Tell it which simulator you want to use\n",
    "job = execute(qc,svsim) # Put in the name of your quantum circuit where it says qc\n",
    "result = job.result()\n",
    "result = job.result()\n"
   ]
  },
  {
   "cell_type": "code",
   "execution_count": 17,
   "id": "191a8a22",
   "metadata": {
    "id": "191a8a22"
   },
   "outputs": [
    {
     "data": {
      "text/latex": [
       "$\\displaystyle \n",
       "\\text{Statevector} = \\begin{bmatrix}\n",
       "\\tfrac{1}{\\sqrt{2}} \\\\\n",
       "0 \\\\\n",
       "0 \\\\\n",
       "\\tfrac{1}{\\sqrt{2}}\n",
       "\\end{bmatrix}\n",
       "$"
      ],
      "text/plain": [
       "<IPython.core.display.Math object>"
      ]
     },
     "metadata": {},
     "output_type": "display_data"
    }
   ],
   "source": [
    "# Block 7 - Simulate the circuit in Block 6 using statevector simulator to obtain the output statevector.\n",
    "#show sim as vector state\n",
    "state = result.get_statevector()\n",
    "array_to_latex(state, pretext=\"\\\\text{Statevector} = \")\n"
   ]
  },
  {
   "cell_type": "code",
   "execution_count": 24,
   "id": "cef4b020",
   "metadata": {
    "id": "cef4b020"
   },
   "outputs": [
    {
     "name": "stdout",
     "output_type": "stream",
     "text": [
      "\n"
     ]
    },
    {
     "data": {
      "image/png": "[encoded data removed]",
      "text/plain": [
       "<Figure size 267.052x144.48 with 1 Axes>"
      ]
     },
     "metadata": {},
     "output_type": "display_data"
    }
   ],
   "source": [
    "# Block 8 - Create a 2 qubit quantum circuit with an H gate on q0, a CX gate with q0 as control bit and q1 as target bit,\n",
    "# followed by an X gate on q0. Draw the circuit\n",
    "\n",
    "qc = QuantumCircuit(2)\n",
    "qc.h(0)\n",
    "qc.cx(0,1)\n",
    "qc.x(0)\n",
    "qc.draw()\n",
    "print()"
   ]
  },
  {
   "cell_type": "code",
   "execution_count": 25,
   "id": "cb6a374e",
   "metadata": {
    "id": "cb6a374e"
   },
   "outputs": [
    {
     "data": {
      "text/latex": [
       "$\\displaystyle \n",
       "\\text{Statevector} = \\begin{bmatrix}\n",
       "0 \\\\\n",
       "\\tfrac{1}{\\sqrt{2}} \\\\\n",
       "\\tfrac{1}{\\sqrt{2}} \\\\\n",
       "0\n",
       "\\end{bmatrix}\n",
       "$"
      ],
      "text/plain": [
       "<IPython.core.display.Math object>"
      ]
     },
     "metadata": {},
     "output_type": "display_data"
    }
   ],
   "source": [
    "# Block 9 - Simulate the circuit using statevector simulator and obtain the output statevector.\n",
    "# Is the output what you expected?\n",
    "\n",
    "#run sim \n",
    "svsim = Aer.get_backend('statevector_simulator') # Tell it which simulator you want to use\n",
    "job = execute(qc,svsim) # Put in the name of your quantum circuit where it says qc\n",
    "result = job.result()\n",
    "result = job.result()\n",
    "\n",
    "#show sim as vector state\n",
    "state = result.get_statevector()\n",
    "array_to_latex(state, pretext=\"\\\\text{Statevector} = \")\n"
   ]
  },
  {
   "cell_type": "code",
   "execution_count": 26,
   "id": "b91c1659",
   "metadata": {
    "id": "b91c1659"
   },
   "outputs": [
    {
     "name": "stdout",
     "output_type": "stream",
     "text": [
      "\n"
     ]
    },
    {
     "data": {
      "text/latex": [
       "$\\displaystyle \n",
       "\\text{Statevector} = \\begin{bmatrix}\n",
       "\\tfrac{1}{\\sqrt{2}} \\\\\n",
       "0 \\\\\n",
       "0 \\\\\n",
       "-\\tfrac{1}{\\sqrt{2}}\n",
       "\\end{bmatrix}\n",
       "$"
      ],
      "text/plain": [
       "<IPython.core.display.Math object>"
      ]
     },
     "metadata": {},
     "output_type": "display_data"
    },
    {
     "data": {
      "image/png": "[encoded data removed]",
      "text/plain": [
       "<Figure size 267.052x144.48 with 1 Axes>"
      ]
     },
     "metadata": {},
     "output_type": "display_data"
    }
   ],
   "source": [
    "# Block 10 - Create a 2 qubit circuit for the B_10 bell state. \n",
    "# Hint: You just have to add one more gate to the B_00 circuit. \n",
    "\n",
    "qc = QuantumCircuit(2)\n",
    "qc.x(0)\n",
    "qc.h(0)\n",
    "qc.cx(0,1)\n",
    "qc.draw()\n",
    "print()\n",
    "\n",
    "#another way to do this\n",
    "    #qc = QuantumCircuit(2)\n",
    "    #qc.h(0)\n",
    "    #qc.z(0)\n",
    "    #qc.cx(0,1)\n",
    "\n",
    "#run sim \n",
    "svsim = Aer.get_backend('statevector_simulator') # Tell it which simulator you want to use\n",
    "job = execute(qc,svsim) # Put in the name of your quantum circuit where it says qc\n",
    "result = job.result()\n",
    "result = job.result()\n",
    "\n",
    "#show sim as vector state\n",
    "state = result.get_statevector()\n",
    "array_to_latex(state, pretext=\"\\\\text{Statevector} = \")\n"
   ]
  },
  {
   "cell_type": "code",
   "execution_count": 27,
   "id": "59abd1f8",
   "metadata": {
    "id": "59abd1f8"
   },
   "outputs": [
    {
     "data": {
      "text/latex": [
       "$\\displaystyle \n",
       "\\text{Statevector} = \\begin{bmatrix}\n",
       "\\tfrac{1}{\\sqrt{2}} \\\\\n",
       "0 \\\\\n",
       "0 \\\\\n",
       "-\\tfrac{1}{\\sqrt{2}}\n",
       "\\end{bmatrix}\n",
       "$"
      ],
      "text/plain": [
       "<IPython.core.display.Math object>"
      ]
     },
     "metadata": {},
     "output_type": "display_data"
    }
   ],
   "source": [
    "# Block 11 - Simulate your circuit from Block 10 using the statevector simulator and obtain the output statevector.\n",
    "# Is the output what you expected?\n",
    "#run sim \n",
    "svsim = Aer.get_backend('statevector_simulator') # Tell it which simulator you want to use\n",
    "job = execute(qc,svsim) # Put in the name of your quantum circuit where it says qc\n",
    "result = job.result()\n",
    "result = job.result()\n",
    "\n",
    "#show sim as vector state\n",
    "state = result.get_statevector()\n",
    "array_to_latex(state, pretext=\"\\\\text{Statevector} = \")\n"
   ]
  },
  {
   "cell_type": "code",
   "execution_count": 36,
   "id": "2f8e3c4a",
   "metadata": {
    "id": "2f8e3c4a"
   },
   "outputs": [
    {
     "name": "stdout",
     "output_type": "stream",
     "text": [
      "\n"
     ]
    },
    {
     "data": {
      "text/latex": [
       "$\\displaystyle \n",
       "\\text{Statevector} = \\begin{bmatrix}\n",
       "0 \\\\\n",
       "-\\tfrac{1}{\\sqrt{2}} \\\\\n",
       "\\tfrac{1}{\\sqrt{2}} \\\\\n",
       "0\n",
       "\\end{bmatrix}\n",
       "$"
      ],
      "text/plain": [
       "<IPython.core.display.Math object>"
      ]
     },
     "metadata": {},
     "output_type": "display_data"
    },
    {
     "data": {
      "image/png": "[encoded data removed]",
      "text/plain": [
       "<Figure size 327.252x144.48 with 1 Axes>"
      ]
     },
     "metadata": {},
     "output_type": "display_data"
    }
   ],
   "source": [
    "# Block 12 - Create a 2 qubit circuit for the B_11 bell state. \n",
    "# Hint: You just have to add one more gate to the B_11 circuit. \n",
    "\n",
    "qc = QuantumCircuit(2)\n",
    "qc.h(0)\n",
    "qc.cx(0,1)\n",
    "qc.x(0)\n",
    "qc.z(0)\n",
    "qc.draw()\n",
    "print()\n",
    "\n",
    "\n"
   ]
  },
  {
   "cell_type": "code",
   "execution_count": 37,
   "id": "7d6e5052",
   "metadata": {
    "id": "7d6e5052"
   },
   "outputs": [
    {
     "data": {
      "text/latex": [
       "$\\displaystyle \n",
       "\\text{Statevector} = \\begin{bmatrix}\n",
       "0 \\\\\n",
       "-\\tfrac{1}{\\sqrt{2}} \\\\\n",
       "\\tfrac{1}{\\sqrt{2}} \\\\\n",
       "0\n",
       "\\end{bmatrix}\n",
       "$"
      ],
      "text/plain": [
       "<IPython.core.display.Math object>"
      ]
     },
     "metadata": {},
     "output_type": "display_data"
    }
   ],
   "source": [
    "# Block 13 – Simulate this circuit using the statevector simulator and obtain the output statevector. \n",
    "# Is the result what you would expect?\n",
    "\n",
    "#run sim \n",
    "svsim = Aer.get_backend('statevector_simulator') # Tell it which simulator you want to use\n",
    "job = execute(qc,svsim) # Put in the name of your quantum circuit where it says qc\n",
    "result = job.result()\n",
    "result = job.result()\n",
    "\n",
    "#show sim as vector state\n",
    "state = result.get_statevector()\n",
    "array_to_latex(state, pretext=\"\\\\text{Statevector} = \")\n"
   ]
  },
  {
   "cell_type": "code",
   "execution_count": null,
   "id": "d6a5ae82",
   "metadata": {},
   "outputs": [],
   "source": []
  }
 ],
 "metadata": {
  "colab": {
   "collapsed_sections": [],
   "name": "SS_Week2_Day3_Student.ipynb",
   "provenance": []
  },
  "kernelspec": {
   "display_name": "Python 3",
   "language": "python",
   "name": "python3"
  },
  "language_info": {
   "codemirror_mode": {
    "name": "ipython",
    "version": 3
   },
   "file_extension": ".py",
   "mimetype": "text/x-python",
   "name": "python",
   "nbconvert_exporter": "python",
   "pygments_lexer": "ipython3",
   "version": "3.8.10"
  }
 },
 "nbformat": 4,
 "nbformat_minor": 5
}
