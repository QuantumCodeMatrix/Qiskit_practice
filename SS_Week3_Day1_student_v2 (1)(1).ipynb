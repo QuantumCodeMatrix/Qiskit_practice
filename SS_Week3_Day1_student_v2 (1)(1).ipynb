{
 "cells": [
  {
   "cell_type": "markdown",
   "id": "628d5917",
   "metadata": {},
   "source": [
    "# Summer School Week 3 Day 1 lab\n",
    "## Algorithms and complexity"
   ]
  },
  {
   "cell_type": "code",
   "execution_count": 1,
   "id": "19e09f5d",
   "metadata": {
    "scrolled": true
   },
   "outputs": [
    {
     "name": "stdout",
     "output_type": "stream",
     "text": [
      "All libraries imported successfully.\n"
     ]
    }
   ],
   "source": [
    "# Importing libraries. No qiskit today!\n",
    "from random import randint   # Function to generate random numbers\n",
    "\n",
    "print(\"All libraries imported successfully.\")"
   ]
  },
  {
   "cell_type": "code",
   "execution_count": 2,
   "id": "5925de2e",
   "metadata": {},
   "outputs": [],
   "source": [
    "# Block 1 - Define the oracle (genie). This is a function that takes a maximum number (max_number) as an input, \n",
    "# and randomly selects one number from 0 to the maximum number as its favorite (favorite_number). \n",
    "# The function returns this number so that we can use it in our guessing algorithms.\n",
    "\n",
    "def genie(max_number):\n",
    "    favorite_number = randint(0, max_number)\n",
    "    return favorite_number"
   ]
  },
  {
   "cell_type": "code",
   "execution_count": 16,
   "id": "8410c5f4",
   "metadata": {
    "scrolled": true
   },
   "outputs": [
    {
     "name": "stdout",
     "output_type": "stream",
     "text": [
      "The genie's favorite number is 8\n"
     ]
    }
   ],
   "source": [
    "# Block 2 - Try out the function genie defined in Block 1. Call the function and print the genie's favorite number.\n",
    "max_number = 10  # Set the maximum number. The genie will select its favorite number from the range 0 to max_number\n",
    "genie_favorite = genie(max_number)\n",
    "print(\"The genie's favorite number is \" + str(genie_favorite)) \n",
    "# The str() function converts the number genie_favorite to a string so that it can be printed"
   ]
  },
  {
   "cell_type": "markdown",
   "id": "339c9b86",
   "metadata": {},
   "source": [
    "## Linear guessing strategy"
   ]
  },
  {
   "cell_type": "code",
   "execution_count": 17,
   "id": "0ee9f71d",
   "metadata": {},
   "outputs": [
    {
     "name": "stdout",
     "output_type": "stream",
     "text": [
      "Not there yet\n",
      "Not there yet\n",
      "Not there yet\n",
      "Not there yet\n",
      "Not there yet\n",
      "Not there yet\n",
      "Not there yet\n",
      "Not there yet\n",
      "You got it 8\n"
     ]
    }
   ],
   "source": [
    "# Block 3 - Implement a linear guessing algorithm. \n",
    "# Go over the numbers from 0 to max number one-by-one using a for loop and the range function. \n",
    "# Check if the current guess is the genie's favorite number. \n",
    "# If it is, you've found the favorite number! End the loop using a break statement. If it isn't, test the next number.\n",
    "# Print the favorite number\n",
    "#linear search\n",
    "\n",
    "for i in range(max_number+1):\n",
    "    guess = i\n",
    "    if genie_favorite != guess:\n",
    "        print('Not there yet')\n",
    "      #insert print statement that will tell you that the guess is not correct.\n",
    "    else:\n",
    "        genie_favorite == guess\n",
    "        print('You got it ' + str(i))\n",
    "        break\n"
   ]
  },
  {
   "cell_type": "code",
   "execution_count": 24,
   "id": "4a7fdd74",
   "metadata": {
    "scrolled": false
   },
   "outputs": [
    {
     "name": "stdout",
     "output_type": "stream",
     "text": [
      "Not guessed correctly 0\n",
      "You have made 1 guesses\n",
      "Not guessed correctly 1\n",
      "You have made 2 guesses\n",
      "Not guessed correctly 2\n",
      "You have made 3 guesses\n",
      "Not guessed correctly 3\n",
      "You have made 4 guesses\n",
      "Not guessed correctly 4\n",
      "You have made 5 guesses\n",
      "Not guessed correctly 5\n",
      "You have made 6 guesses\n",
      "Not guessed correctly 6\n",
      "You have made 7 guesses\n",
      "Not guessed correctly 7\n",
      "You have made 8 guesses\n",
      "That's correct! 8 is my favorite.\n",
      "It took you 9 guesses to find answer\n"
     ]
    }
   ],
   "source": [
    "# Block 4 - Implement a linear guessing algorithm, and also track the number of guesses it took. \n",
    "# Go over the numbers from 0 to max number one-by-one using a for loop and the range function. \n",
    "# Check if the current guess is the genie's favorite number. \n",
    "# If it is, you've found the favorite number! End the loop using a break statement.\n",
    "# If it isn't, test the next number.\n",
    "# Print the favorite number as well as the number of guesses \n",
    "\n",
    "\n",
    "\n",
    "number_guesses = 0 #start by setting the number of guesses to 0\n",
    "for i in range(max_number+1):\n",
    "    number_guesses += 1\n",
    "    if i != genie_favorite :\n",
    "        print('Not guessed correctly ' + str(i))\n",
    "        print(\"You have made \" + str(number_guesses) + \" guesses\")\n",
    "        # increase the value of number_guesses by 1\n",
    "    # add print statement that says how many guesses you used\n",
    "    else:\n",
    "        print(\"That's correct! \" + str(i) + \" is my favorite.\")\n",
    "        print('It took you ' + str(number_guesses) + ' guesses to find answer')\n",
    "        break\n",
    "\n",
    "        \n",
    "number_guesses = 0 #start by setting the number of guesses to 0\n",
    "for i in range(max_number+1):\n",
    "    number_guesses += 1\n",
    "    if  i != genie_favorite:\n",
    "        print(\"No! \" + str(i) + \" is not my favorite\")\n",
    "        print(\" You have made \" + str(number_guesses) + \" guesses.\")\n",
    "    else:\n",
    "        print(\"You guessed correctly! My favorite number is \" + str(i))\n",
    "        print(\" It took you \" + str(number_guesses) + \" guesses.\")\n",
    "        break   \n",
    "\n"
   ]
  },
  {
   "cell_type": "markdown",
   "id": "5a424155",
   "metadata": {},
   "source": [
    "## Binary guessing strategy"
   ]
  },
  {
   "cell_type": "code",
   "execution_count": 28,
   "id": "2455df82",
   "metadata": {
    "scrolled": true
   },
   "outputs": [
    {
     "name": "stdout",
     "output_type": "stream",
     "text": [
      "Is my favorite number greater than or equal to 5?\n",
      "Yes, it is. You have made 1 guesses.\n",
      "Is my favorite number greater than or equal to 8?\n",
      "You guessed correctly! My favorite number is 8\n",
      "It took you 2 guesses.\n"
     ]
    }
   ],
   "source": [
    "# Block 5 - Implement a binary guessing algorithm, and also track the number of guesses it took. \n",
    "# what do you think this code is doing? \n",
    "\n",
    "number_guesses = 0\n",
    "lower_limit = 0\n",
    "upper_limit = max_number\n",
    "for i in range(max_number+1):\n",
    "    guess = round(lower_limit + (upper_limit-lower_limit)/2)\n",
    "    print(\"Is my favorite number greater than or equal to \"+ str(guess)+\"?\")\n",
    "    if genie_favorite < guess:\n",
    "        upper_limit = guess\n",
    "        number_guesses = number_guesses+1\n",
    "        print(\"No, it is not. You have made \" + str(number_guesses) + \" guesses.\")\n",
    "    elif genie_favorite > guess:\n",
    "        lower_limit = guess\n",
    "        number_guesses = number_guesses+1\n",
    "        print(\"Yes, it is. You have made \" + str(number_guesses) + \" guesses.\")\n",
    "    else:\n",
    "        favorite_number = guess\n",
    "        number_guesses = number_guesses+1\n",
    "        print(\"You guessed correctly! My favorite number is \" + str(guess))\n",
    "        print(\"It took you \"+str(number_guesses)+ \" guesses.\")\n",
    "        break\n",
    "        \n",
    "        "
   ]
  },
  {
   "cell_type": "markdown",
   "id": "39c1224d",
   "metadata": {},
   "source": [
    "# Optional content"
   ]
  },
  {
   "cell_type": "markdown",
   "id": "cb47e65f",
   "metadata": {},
   "source": [
    "## Implementing linear and binary search using functions"
   ]
  },
  {
   "cell_type": "code",
   "execution_count": 29,
   "id": "5c2beb1c",
   "metadata": {},
   "outputs": [],
   "source": [
    "import matplotlib.pyplot as plt  # Function to create plots"
   ]
  },
  {
   "cell_type": "code",
   "execution_count": 37,
   "id": "21f5f9e2",
   "metadata": {},
   "outputs": [],
   "source": [
    "# Block 6 - Implement the linear guessing algorithm as a function guessing_linear.\n",
    "# The function takes the max_number as an input, and returns the number of guesses as well as the genie's favorite number.\n",
    "def guessing_linear(max_number):\n",
    "    genie_favorite = genie(max_number)\n",
    "    number_guesses = 0\n",
    "    favorite_number = 0\n",
    "    for i in range(max_number+1):\n",
    "        # Add comparisons here\n",
    "        number_guesses += 1\n",
    "        if i == genie_favorite:\n",
    "            favorite_number = i\n",
    "            break\n",
    "    return number_guesses, favorite_number\n"
   ]
  },
  {
   "cell_type": "code",
   "execution_count": 39,
   "id": "ec4968d8",
   "metadata": {
    "scrolled": true
   },
   "outputs": [
    {
     "name": "stdout",
     "output_type": "stream",
     "text": [
      "88\n"
     ]
    }
   ],
   "source": [
    "# Block 7 - Call the function guessing_linear.\n",
    "number_guesses, favorite_number = guessing_linear(100)\n",
    "print(number_guesses)"
   ]
  },
  {
   "cell_type": "code",
   "execution_count": 44,
   "id": "afb6ad1d",
   "metadata": {},
   "outputs": [],
   "source": [
    "def guessing_binary(max_number):\n",
    "    genie_favorite = genie(max_number)\n",
    "    number_guesses = 0\n",
    "    lower_limit = 0\n",
    "    upper_limit = max_number\n",
    "    for i in range(max_number+1):\n",
    "        guess = round(lower_limit + (upper_limit-lower_limit)/2)\n",
    "        if genie_favorite < guess:\n",
    "            upper_limit = guess\n",
    "            number_guesses = number_guesses+1\n",
    "        elif genie_favorite > guess:\n",
    "            lower_limit = guess\n",
    "            number_guesses = number_guesses+1\n",
    "        else:\n",
    "            favorite_number = guess\n",
    "            number_guesses = number_guesses+1\n",
    "            break\n",
    "    return number_guesses, favorite_number\n"
   ]
  },
  {
   "cell_type": "markdown",
   "id": "03caac5e",
   "metadata": {},
   "source": [
    "## Generating statistics on complexity of linear and binary search"
   ]
  },
  {
   "cell_type": "code",
   "execution_count": 48,
   "id": "97ce577f",
   "metadata": {},
   "outputs": [
    {
     "data": {
      "text/plain": [
       "[<matplotlib.lines.Line2D at 0x7f935192e5b0>]"
      ]
     },
     "execution_count": 48,
     "metadata": {},
     "output_type": "execute_result"
    },
    {
     "data": {
      "image/png": "[encoded data removed]",
      "text/plain": [
       "<Figure size 432x288 with 1 Axes>"
      ]
     },
     "metadata": {
      "needs_background": "light"
     },
     "output_type": "display_data"
    }
   ],
   "source": [
    "# Block 9 - Plotting the average number of searches for a given max_number for linear guessing algorithm. \n",
    "# Call the function guessing_linear for different values of max_number. \n",
    "# For each value of max_number, call the function 20 times, and store the average number of guesses in a list\n",
    "# Plot the average number of guesses vs the range of values of max_number\n",
    "# This plot shows the behavior of the average number of computations required for implementing the linear guesssing\n",
    "# algorithm versus the size of the dataset that we are searching through.\n",
    "\n",
    "number_guesses_stats_linear = [] # List to store average number of guesses\n",
    "for max_number in range(10,10000,10):\n",
    "    number_guesses_sum = 0\n",
    "    for reps in range(0,20):\n",
    "        number_guesses, favorite_number = guessing_linear(max_number)\n",
    "        number_guesses_sum = number_guesses_sum+number_guesses\n",
    "    number_guesses_stats_linear.append(number_guesses_sum/20)\n",
    "\n",
    "plt.plot(range(10,10000,10),number_guesses_stats_linear)"
   ]
  },
  {
   "cell_type": "code",
   "execution_count": 47,
   "id": "f9fa0890",
   "metadata": {},
   "outputs": [
    {
     "data": {
      "text/plain": [
       "[<matplotlib.lines.Line2D at 0x7f9351a96820>]"
      ]
     },
     "execution_count": 47,
     "metadata": {},
     "output_type": "execute_result"
    },
    {
     "data": {
      "image/png": "[encoded data removed]",
      "text/plain": [
       "<Figure size 432x288 with 1 Axes>"
      ]
     },
     "metadata": {
      "needs_background": "light"
     },
     "output_type": "display_data"
    }
   ],
   "source": [
    "# Block 10 - Plotting the average number of searches for a given max_number for binary guessing algorithm. \n",
    "# Call the function guessing_binary for different values of max_number. \n",
    "# For each value of max_number, call the function 20 times, and store the average number of guesses in a list\n",
    "# Plot the average number of guesses vs the range of values of max_number\n",
    "# This plot shows the behavior of the average number of computations required for implementing the binary guesssing\n",
    "# algorithm versus the size of the dataset that we are searching through.\n",
    "\n",
    "number_guesses_stats_binary = [] # List to store average number of guesses\n",
    "for max_number in range(10,10000,10):\n",
    "    number_guesses_sum = 0\n",
    "    for reps in range(0,20):\n",
    "        number_guesses, favorite_number = guessing_binary(max_number)\n",
    "        number_guesses_sum = number_guesses_sum+number_guesses\n",
    "    number_guesses_stats_binary.append(number_guesses_sum/20)\n",
    "\n",
    "plt.plot(range(10,10000,10),number_guesses_stats_binary)"
   ]
  },
  {
   "cell_type": "code",
   "execution_count": 49,
   "id": "a4444bdd",
   "metadata": {},
   "outputs": [
    {
     "data": {
      "text/plain": [
       "[<matplotlib.lines.Line2D at 0x7f9351b61970>,\n",
       " <matplotlib.lines.Line2D at 0x7f9351b61940>]"
      ]
     },
     "execution_count": 49,
     "metadata": {},
     "output_type": "execute_result"
    },
    {
     "data": {
      "image/png": "[encoded data removed]",
      "text/plain": [
       "<Figure size 432x288 with 1 Axes>"
      ]
     },
     "metadata": {
      "needs_background": "light"
     },
     "output_type": "display_data"
    }
   ],
   "source": [
    "# Block 11 - Plotting both linear and binary guessing algorithms on the same plot, on a semilog plot\n",
    "\n",
    "plt.semilogy(range(10,10000,10),number_guesses_stats_linear, range(10,10000,10),number_guesses_stats_binary)"
   ]
  },
  {
   "cell_type": "code",
   "execution_count": null,
   "id": "4ab990b9",
   "metadata": {},
   "outputs": [],
   "source": []
  }
 ],
 "metadata": {
  "kernelspec": {
   "display_name": "Python 3",
   "language": "python",
   "name": "python3"
  },
  "language_info": {
   "codemirror_mode": {
    "name": "ipython",
    "version": 3
   },
   "file_extension": ".py",
   "mimetype": "text/x-python",
   "name": "python",
   "nbconvert_exporter": "python",
   "pygments_lexer": "ipython3",
   "version": "3.8.10"
  }
 },
 "nbformat": 4,
 "nbformat_minor": 5
}
