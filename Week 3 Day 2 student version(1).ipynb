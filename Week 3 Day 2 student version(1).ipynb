{
 "cells": [
  {
   "cell_type": "markdown",
   "id": "signal-anthony",
   "metadata": {
    "id": "signal-anthony"
   },
   "source": [
    "<div style=\"text-align: center; margin: 50px\">\n",
    "\n",
    "<h1 style=\"text-align: center;\">Week 3, Day 2</h1>\n",
    "<h3>Grover´s Algorithm</h3>\n",
    "\n",
    "</div>"
   ]
  },
  {
   "cell_type": "code",
   "execution_count": 1,
   "id": "sapphire-elder",
   "metadata": {
    "id": "sapphire-elder"
   },
   "outputs": [
    {
     "name": "stdout",
     "output_type": "stream",
     "text": [
      "Libraries imported successfully.\n"
     ]
    }
   ],
   "source": [
    "#import libraries\n",
    "\n",
    "from qiskit import QuantumCircuit, execute, Aer, IBMQ, transpile\n",
    "from qiskit.visualization import plot_histogram\n",
    "from qiskit_textbook.tools import array_to_latex\n",
    "\n",
    "from qiskit.providers.ibmq import least_busy\n",
    "\n",
    "from qiskit.aqua.algorithms import Grover\n",
    "from qiskit.aqua.components.oracles import LogicalExpressionOracle, TruthTableOracle\n",
    "from qiskit.utils import QuantumInstance\n",
    "\n",
    "\n",
    "print(\"Libraries imported successfully.\")"
   ]
  },
  {
   "cell_type": "markdown",
   "id": "2a08da2c",
   "metadata": {
    "id": "2a08da2c"
   },
   "source": [
    "## Coding cheat sheet:\n",
    "\n",
    "#Defining a quantum circuit: \n",
    "\n",
    "`qc = QuantumCircuit(1)` #Define a 1 qubit quantum circuit <br>\n",
    "\n",
    "`qc.x(0)` #Add an X gate <br>\n",
    "`qc.h(0)` #Add an H gate <br>\n",
    "`qc.z(0)` #Add a Z gate <br>\n",
    "`qc.y(0)` #Add a Y gate <br>\n",
    "\n",
    "`qc.draw()` #Draw the circuit <br>\n",
    "\n",
    "**Using the statevector simulator** (Do this no matter which way you want to see the output):<br>\n",
    "\n",
    "`svsim = Aer.get_backend('statevector_simulator')` # Tell it which simulator you want to use <br>\n",
    "`job = execute(qc,svsim)` # Put in the name of your quantum circuit where it says qc<br>\n",
    "`result = job.result()` <br>\n",
    "\n",
    "\n",
    "See the output on the Bloch sphere:<br>\n",
    "`state = result.get_statevector()` <br>\n",
    "`plot_bloch_multivector(state)`<br>\n",
    "\n",
    "See the output in vector form:<br>\n",
    "`state = result.get_statevector()` <br>\n",
    "`array_to_latex(state, pretext=\"\\\\text{Statevector} = \")` <br>\n",
    "\n",
    "See the output in histogram form: <br>\n",
    "`counts = result.get_counts(qc)` <br>\n",
    "`plot_histogram(counts)` <br>\n",
    "\n",
    "**Using the qasm simulator:**\n",
    "\n",
    "`svsim = Aer.get_backend('qasm_simulator')` # Change statevector to qasm <br>\n",
    "`job = execute(qc,svsim,shots=100)` # add shots - tell it how many times to run <br>\n",
    "`result = job.result()` <br>\n",
    "\n",
    "\n",
    "**Using a real quantum computer:**\n",
    "\n",
    "Find the least busy backend: <br>\n",
    "`IBMQ.load_account()` <br>\n",
    "`provider = IBMQ.get_provider(hub='ibm-q')` <br>\n",
    "`backend = least_busy(provider.backends(filters=lambda x: x.configuration().n_qubits >= 2 \n",
    "                                       and not x.configuration().simulator \n",
    "                                       and x.status().operational==True))` <br>\n",
    "`print(\"least busy backend: \", backend)` <br>\n",
    "\n",
    "\n",
    "Run the job:\n",
    "`job = execute(qc, backend=backend, shots=100)`\n",
    "\n",
    "`result = job.result()` <br>\n",
    "`counts = result.get_counts(qc)` <br>\n",
    "`plot_histogram(counts)` \n",
    "\n",
    "\n",
    "\n"
   ]
  },
  {
   "cell_type": "markdown",
   "id": "unknown-stage",
   "metadata": {
    "id": "unknown-stage"
   },
   "source": [
    "<a id=\"2qubits\"></a>\n",
    "# Implementing Grover's Algorithm for 2 qubits"
   ]
  },
  {
   "cell_type": "markdown",
   "id": "turkish-pregnancy",
   "metadata": {
    "id": "turkish-pregnancy"
   },
   "source": [
    "## Step 1 - Creating an equal superposition"
   ]
  },
  {
   "cell_type": "code",
   "execution_count": 2,
   "id": "6886b9de",
   "metadata": {
    "id": "6886b9de"
   },
   "outputs": [
    {
     "data": {
      "image/png": "[encoded data removed]",
      "text/plain": [
       "<Figure size 146.652x144.48 with 1 Axes>"
      ]
     },
     "execution_count": 2,
     "metadata": {},
     "output_type": "execute_result"
    }
   ],
   "source": [
    "#BLOCK 1 - Define a quantum circuit with 2 qubits and create an equal superposition\n",
    "qc = QuantumCircuit(2)\n",
    "qc.h(0)\n",
    "qc.h(1)\n",
    "qc.draw()\n",
    "\n"
   ]
  },
  {
   "cell_type": "markdown",
   "id": "oriental-geography",
   "metadata": {
    "id": "oriental-geography"
   },
   "source": [
    "<a id=\"hgates\"></a>\n",
    "## Step 2 - Applying the Oracle"
   ]
  },
  {
   "cell_type": "code",
   "execution_count": 34,
   "id": "5dfe33a0",
   "metadata": {
    "id": "5dfe33a0"
   },
   "outputs": [
    {
     "data": {
      "image/png": "[encoded data removed]",
      "text/plain": [
       "<Figure size 206.852x144.48 with 1 Axes>"
      ]
     },
     "execution_count": 34,
     "metadata": {},
     "output_type": "execute_result"
    }
   ],
   "source": [
    "# BLOCK 2 - Apply the Oracle\n",
    "\n",
    "\n",
    "qc.cz(0,1)\n",
    "qc.draw()\n"
   ]
  },
  {
   "cell_type": "code",
   "execution_count": 35,
   "id": "84968708",
   "metadata": {
    "id": "84968708"
   },
   "outputs": [
    {
     "data": {
      "text/latex": [
       "$\\displaystyle \n",
       "\\text{Statevector} = \\begin{bmatrix}\n",
       "\\tfrac{1}{2} \\\\\n",
       "\\tfrac{1}{2} \\\\\n",
       "\\tfrac{1}{2} \\\\\n",
       "-\\tfrac{1}{2}\n",
       "\\end{bmatrix}\n",
       "$"
      ],
      "text/plain": [
       "<IPython.core.display.Math object>"
      ]
     },
     "metadata": {},
     "output_type": "display_data"
    }
   ],
   "source": [
    "# BLOCK 3 - Check to make sure you got the right statevector\n",
    "\n",
    "svsim = Aer.get_backend('statevector_simulator') # Tell it which simulator you want to use\n",
    "job = execute(qc,svsim) # Put in the name of your quantum circuit where it says qc\n",
    "result = job.result()\n",
    "\n",
    "#See the output in vector form:\n",
    "state = result.get_statevector()\n",
    "array_to_latex(state, pretext=\"\\\\text{Statevector} = \")\n"
   ]
  },
  {
   "cell_type": "markdown",
   "id": "vital-therapist",
   "metadata": {
    "id": "vital-therapist"
   },
   "source": [
    "<a id=\"oracle2q\"></a>\n",
    "## Step 3: Applying Grover's diffusion operator"
   ]
  },
  {
   "cell_type": "code",
   "execution_count": 36,
   "id": "incorporated-simpson",
   "metadata": {
    "id": "incorporated-simpson",
    "scrolled": true
   },
   "outputs": [
    {
     "data": {
      "image/png": "[encoded data removed]",
      "text/plain": [
       "<Figure size 447.652x144.48 with 1 Axes>"
      ]
     },
     "execution_count": 36,
     "metadata": {},
     "output_type": "execute_result"
    }
   ],
   "source": [
    "# BLOCK 4 - Applying the diffusion operator\n",
    "qc.h(0)\n",
    "qc.h(1)\n",
    "qc.z(0)\n",
    "qc.z(1)\n",
    "qc.cz(0,1)\n",
    "qc.h(0)\n",
    "qc.h(1)\n",
    "qc.draw()"
   ]
  },
  {
   "cell_type": "code",
   "execution_count": 37,
   "id": "69c081a0",
   "metadata": {
    "id": "69c081a0"
   },
   "outputs": [
    {
     "data": {
      "text/latex": [
       "$\\displaystyle \n",
       "\\text{Statevector} = \\begin{bmatrix}\n",
       "0 \\\\\n",
       "0 \\\\\n",
       "0 \\\\\n",
       "1\n",
       "\\end{bmatrix}\n",
       "$"
      ],
      "text/plain": [
       "<IPython.core.display.Math object>"
      ]
     },
     "metadata": {},
     "output_type": "display_data"
    }
   ],
   "source": [
    "# BLOCK 5 - Find the statevector to make sure you implemented all the gates correctly.\n",
    "svsim = Aer.get_backend('statevector_simulator') # Tell it which simulator you want to use\n",
    "job = execute(qc,svsim) # Put in the name of your quantum circuit where it says qc\n",
    "result = job.result()\n",
    "\n",
    "#See the output in vector form:\n",
    "state = result.get_statevector()\n",
    "array_to_latex(state, pretext=\"\\\\text{Statevector} = \")\n"
   ]
  },
  {
   "cell_type": "markdown",
   "id": "regional-steel",
   "metadata": {
    "id": "regional-steel"
   },
   "source": [
    "<a id=\"measurement\"></a>\n",
    "## Step 4 - Make a measurement"
   ]
  },
  {
   "cell_type": "code",
   "execution_count": 41,
   "id": "legislative-wallpaper",
   "metadata": {
    "id": "legislative-wallpaper",
    "scrolled": true
   },
   "outputs": [
    {
     "data": {
      "image/png": "[encoded data removed]",
      "text/plain": [
       "<Figure size 504x360 with 1 Axes>"
      ]
     },
     "execution_count": 41,
     "metadata": {},
     "output_type": "execute_result"
    }
   ],
   "source": [
    "# BLOCK 6 - Use the qasm simulator to find the output\n",
    "qc.draw()\n",
    "qc.measure_all()\n",
    "\n",
    "\n",
    "svsim = Aer.get_backend('qasm_simulator') # Change statevector to qasm\n",
    "job = execute(qc,svsim,shots=100) # add shots - tell it how many times to run\n",
    "result = job.result()\n",
    "\n",
    "result = job.result()\n",
    "counts = result.get_counts(qc)\n",
    "plot_histogram(counts) "
   ]
  },
  {
   "cell_type": "markdown",
   "id": "7c747e92",
   "metadata": {
    "id": "7c747e92"
   },
   "source": [
    "# Part 2 - Running Grover's Algorithm for many items"
   ]
  },
  {
   "cell_type": "code",
   "execution_count": 43,
   "id": "7c0c1722",
   "metadata": {
    "id": "7c0c1722"
   },
   "outputs": [],
   "source": [
    "# BLOCK 7 - Define the list of items\n",
    "items = '00100000'\n"
   ]
  },
  {
   "cell_type": "code",
   "execution_count": 44,
   "id": "ccfbf1de",
   "metadata": {
    "id": "ccfbf1de"
   },
   "outputs": [],
   "source": [
    "# BLOCK 8 - Create the oracle\n",
    "\n",
    "oracle = TruthTableOracle(items)"
   ]
  },
  {
   "cell_type": "code",
   "execution_count": 53,
   "id": "27842c62",
   "metadata": {
    "id": "27842c62"
   },
   "outputs": [
    {
     "data": {
      "image/png": "[encoded data removed]",
      "text/plain": [
       "<Figure size 504x360 with 1 Axes>"
      ]
     },
     "execution_count": 53,
     "metadata": {},
     "output_type": "execute_result"
    }
   ],
   "source": [
    "# BLOCK 9 - Call the Grover function and visualize result\n",
    "\n",
    "grover = Grover(oracle, iterations = 10)\n",
    "\n",
    "result = grover.run(QuantumInstance(Aer.get_backend('qasm_simulator'), shots=1024))\n",
    "plot_histogram(result['measurement'])\n"
   ]
  },
  {
   "cell_type": "markdown",
   "id": "nutritional-passion",
   "metadata": {
    "id": "nutritional-passion"
   },
   "source": [
    "<a id=\"real\"></a>\n",
    "## Part 3 - Experimenting with a real quantum computer"
   ]
  },
  {
   "cell_type": "markdown",
   "id": "portable-watson",
   "metadata": {
    "id": "portable-watson"
   },
   "source": [
    "We can run the circuit on a quantum computer as below."
   ]
  },
  {
   "cell_type": "code",
   "execution_count": 54,
   "id": "outstanding-prompt",
   "metadata": {
    "id": "outstanding-prompt"
   },
   "outputs": [
    {
     "name": "stdout",
     "output_type": "stream",
     "text": [
      "least busy backend:  ibmq_belem\n"
     ]
    }
   ],
   "source": [
    "# BLOCK 10 - Load local account information\n",
    "IBMQ.load_account()\n",
    "# Get the least busy backend\n",
    "provider = IBMQ.get_provider(hub='ibm-q')\n",
    "backend = least_busy(provider.backends(filters=lambda x: x.configuration().n_qubits >= 2 \n",
    "                                       and not x.configuration().simulator \n",
    "                                       and x.status().operational==True))\n",
    "print(\"least busy backend: \", backend)"
   ]
  },
  {
   "cell_type": "code",
   "execution_count": 62,
   "id": "talented-basics",
   "metadata": {
    "id": "talented-basics"
   },
   "outputs": [
    {
     "data": {
      "image/png": "[encoded data removed]",
      "text/plain": [
       "<Figure size 504x360 with 1 Axes>"
      ]
     },
     "execution_count": 62,
     "metadata": {},
     "output_type": "execute_result"
    }
   ],
   "source": [
    "# BLOCK 11 - Run our circuit on the least busy backend\n",
    "\n",
    "result= grover.run(QuantumInstance(backend, shots=1024))\n",
    "\n",
    "job = execute(qc, backend=backend, shots=100)\n",
    "\n",
    "result = job.result()\n",
    "counts = result.get_counts(qc)\n",
    "plot_histogram(counts) \n",
    "\n",
    "\n"
   ]
  },
  {
   "cell_type": "code",
   "execution_count": 63,
   "id": "optimum-sharing",
   "metadata": {
    "id": "optimum-sharing"
   },
   "outputs": [
    {
     "name": "stdout",
     "output_type": "stream",
     "text": [
      "Traceback \u001b[1;36m(most recent call last)\u001b[0m:\n",
      "\u001b[1;36m  File \u001b[1;32m\"<ipython-input-63-cdfd2c48b7a9>\"\u001b[1;36m, line \u001b[1;32m3\u001b[1;36m, in \u001b[1;35m<module>\u001b[1;36m\u001b[0m\n",
      "\u001b[1;33m    plot_histogram(result['measurement'])\u001b[0m\n",
      "\u001b[1;31mTypeError\u001b[0m\u001b[1;31m:\u001b[0m 'Result' object is not subscriptable\n",
      "\n",
      "Use %tb to get the full traceback.\n"
     ]
    },
    {
     "data": {
      "text/html": [
       "\n",
       "<style>\n",
       ".button {\n",
       "  border: none;\n",
       "  color: white;\n",
       "  padding: 4px 8px;\n",
       "  text-align: center;\n",
       "  text-decoration: none;\n",
       "  display: inline-block;\n",
       "  font-size: 12px;\n",
       "  margin: 4px 2px;\n",
       "  transition-duration: 0.2s;\n",
       "  cursor: pointer;\n",
       "}\n",
       ".iqx-button {\n",
       "  background-color: #0f62fe; \n",
       "  color: white; \n",
       "}\n",
       ".iqx-button:hover {\n",
       "  background-color: #0043ce;\n",
       "  color: white;\n",
       "}\n",
       "</style>\n",
       "<a href=\"https://stackoverflow.com/search?q=TypeError: 'Result' object is not subscriptable\" target='_blank'><button class='button iqx-button'>Search for solution online</button></a>\n"
      ],
      "text/plain": [
       "<IPython.core.display.HTML object>"
      ]
     },
     "metadata": {},
     "output_type": "display_data"
    }
   ],
   "source": [
    "# BLOCK 12 - Get the results from the computation\n",
    "\n",
    "plot_histogram(result['measurement'])\n",
    "\n",
    "\n"
   ]
  },
  {
   "cell_type": "code",
   "execution_count": null,
   "id": "583f5929",
   "metadata": {
    "id": "583f5929"
   },
   "outputs": [],
   "source": []
  }
 ],
 "metadata": {
  "colab": {
   "name": "Week 3 Day 2 student version.ipynb",
   "provenance": []
  },
  "kernelspec": {
   "display_name": "Python 3",
   "language": "python",
   "name": "python3"
  },
  "language_info": {
   "codemirror_mode": {
    "name": "ipython",
    "version": 3
   },
   "file_extension": ".py",
   "mimetype": "text/x-python",
   "name": "python",
   "nbconvert_exporter": "python",
   "pygments_lexer": "ipython3",
   "version": "3.8.10"
  }
 },
 "nbformat": 4,
 "nbformat_minor": 5
}
