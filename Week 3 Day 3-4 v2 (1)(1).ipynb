{
 "cells": [
  {
   "cell_type": "markdown",
   "metadata": {
    "id": "n10Rndy9F7ok"
   },
   "source": [
    "<div style=\"text-align: center; margin: 50px\">\n",
    "\n",
    "<h1 style=\"color: white; background-color: grey; text-align: center;\">Week 3, Days 3 and 4</h1>\n",
    "<h3>Quantum Key Distribution</h3>\n",
    "\n",
    "</div>"
   ]
  },
  {
   "cell_type": "code",
   "execution_count": 7,
   "metadata": {
    "id": "qBcHtwKsF7ol",
    "outputId": "bf4dc1b0-c4ba-4c75-b844-4df4c8918e6d"
   },
   "outputs": [],
   "source": [
    "import numpy as np\n",
    "# Importing standard Qiskit libraries\n",
    "from qiskit import QuantumCircuit, execute, transpile, Aer, IBMQ\n",
    "from qiskit.tools.jupyter import *\n",
    "from qiskit.visualization import *\n",
    "from ibm_quantum_widgets import *\n",
    "from qiskit_textbook.tools import array_to_latex\n",
    "\n",
    "# Loading your IBM Quantum account(s)\n",
    "provider = IBMQ.load_account()\n",
    "\n",
    "from random import getrandbits\n"
   ]
  },
  {
   "cell_type": "markdown",
   "metadata": {
    "id": "FkdXuqWSF7om"
   },
   "source": [
    "## Coding cheat sheet:\n",
    "\n",
    "#Defining a quantum circuit: \n",
    "\n",
    "`qc = QuantumCircuit(1)` #Define a 1 qubit quantum circuit <br>\n",
    "\n",
    "`qc.x(0)` #Add an X gate <br>\n",
    "`qc.h(0)` #Add an H gate <br>\n",
    "`qc.z(0)` #Add a Z gate <br>\n",
    "`qc.y(0)` #Add a Y gate <br>\n",
    "\n",
    "`qc.draw()` #Draw the circuit <br>\n",
    "\n",
    "**Using the statevector simulator** (Do this no matter which way you want to see the output):<br>\n",
    "\n",
    "`svsim = Aer.get_backend('statevector_simulator')` # Tell it which simulator you want to use <br>\n",
    "`job = execute(qc,svsim)` # Put in the name of your quantum circuit where it says qc<br>\n",
    "`result = job.result()` <br>\n",
    "\n",
    "\n",
    "See the output on the Bloch sphere:<br>\n",
    "`state = result.get_statevector()` <br>\n",
    "`plot_bloch_multivector(state)`<br>\n",
    "\n",
    "See the output in vector form:<br>\n",
    "`state = result.get_statevector()` <br>\n",
    "`array_to_latex(state, pretext=\"\\\\text{Statevector} = \")` <br>\n",
    "\n",
    "See the output in histogram form: <br>\n",
    "`counts = result.get_counts(qc)` <br>\n",
    "`plot_histogram(counts)` <br>\n",
    "\n",
    "**Using the qasm simulator:**\n",
    "\n",
    "`qc.measure_all()` #adds measurements <br>\n",
    "\n",
    "`svsim = Aer.get_backend('qasm_simulator')` # Change statevector to qasm <br>\n",
    "`job = execute(qc,svsim,shots=100)` # add shots - tell it how many times to run <br>\n",
    "`result = job.result()` <br>\n",
    "\n",
    "\n",
    "**Using a real quantum computer:**\n",
    "\n",
    "Find the least busy backend: <br>\n",
    "`IBMQ.load_account()` <br>\n",
    "`provider = IBMQ.get_provider(hub='ibm-q')` <br>\n",
    "`backend = least_busy(provider.backends(filters=lambda x: x.configuration().n_qubits >= 2 \n",
    "                                       and not x.configuration().simulator \n",
    "                                       and x.status().operational==True))` <br>\n",
    "`print(\"least busy backend: \", backend)` <br>\n",
    "\n",
    "\n",
    "Run the job:\n",
    "`job = execute(qc, backend=backend, shots=100)`\n",
    "\n",
    "`result = job.result()` <br>\n",
    "`counts = result.get_counts(qc)` <br>\n",
    "`plot_histogram(counts)` \n",
    "\n",
    "\n",
    "\n"
   ]
  },
  {
   "cell_type": "markdown",
   "metadata": {
    "id": "SZiP7qW3F7on"
   },
   "source": [
    "<a id=\"step1\"></a>\n",
    "## Step 1 - Alice randomly chooses bits\n"
   ]
  },
  {
   "cell_type": "code",
   "execution_count": 8,
   "metadata": {
    "id": "ZMa8SF40F7on",
    "outputId": "5dfeec53-40ed-40bd-9249-f7dc388cacfd"
   },
   "outputs": [
    {
     "data": {
      "text/plain": [
       "0"
      ]
     },
     "execution_count": 8,
     "metadata": {},
     "output_type": "execute_result"
    }
   ],
   "source": [
    "#BLOCK 1 - try out the getrandbits function\n",
    "getrandbits(1)"
   ]
  },
  {
   "cell_type": "code",
   "execution_count": 9,
   "metadata": {
    "id": "K1KDZBF4F7oo",
    "outputId": "ef65709b-d6c7-4a98-c78c-f6c9735e4552"
   },
   "outputs": [
    {
     "data": {
      "text/plain": [
       "'11100101100000100011001101101000101000100000011101110000110101101011000111001011111111101101110101010111000110011011111101111101111100110001111000010111110011000110100100000111110010110110010101101100101101001000110001110111001011100110010010011010010011000010110101011011001001111101000000011000010010100100000011011110110110000111111000101000111101101111101110100100001101100110100111110010010111000111010011000100011001101010000110011011111100100110001100000111010100011010000110110001001011000000'"
      ]
     },
     "execution_count": 9,
     "metadata": {},
     "output_type": "execute_result"
    }
   ],
   "source": [
    "# BLOCK 2 - Generate Alice's bitstring\n",
    "\n",
    "alice_bitstring = \"\"\n",
    "    \n",
    "# Make alice_bitstring have 500 random bits\n",
    "for i in range(500):\n",
    "    alice_bitstring += str(getrandbits(1))\n",
    "alice_bitstring\n",
    "\n"
   ]
  },
  {
   "cell_type": "markdown",
   "metadata": {
    "id": "hjCiUgBcF7oo"
   },
   "source": [
    "## Step 2 - Alice randomly chooses bases"
   ]
  },
  {
   "cell_type": "code",
   "execution_count": 10,
   "metadata": {
    "id": "r2BQUG7jF7oo",
    "outputId": "75ed60a2-586f-403d-b53c-6c00bdde0e73"
   },
   "outputs": [
    {
     "data": {
      "text/plain": [
       "'11010111100100001011111101110010010011010101000011111100111000000101111011010000010110101111110110100111001010011001001000000110111110100100011011111101100101100111001000010111110110010111100111000010000001110011010100100110101110100101000100010011011111100101101010110010111000101111000011101011101111111100001011110011010100010010111000011011101110111000101111101001011100100010011010110110000011001100101101110110111111000101000111010101010110111010000001010100010100000101110011100110110111001010'"
      ]
     },
     "execution_count": 10,
     "metadata": {},
     "output_type": "execute_result"
    }
   ],
   "source": [
    "# BLOCK 3 - Generate Alice's bases\n",
    "\n",
    "alice_bases = \"\"\n",
    "for i in range(500):\n",
    "    alice_bases += str(getrandbits(1))\n",
    "        \n",
    "\n",
    "# Make alice_bases have 500 random bits\n",
    "alice_bases"
   ]
  },
  {
   "cell_type": "markdown",
   "metadata": {
    "id": "OevIDnGsF7op"
   },
   "source": [
    "<a id=\"step3\"></a>\n",
    "## Step 3 - Encode the classical bits into qubits\n",
    "\n",
    "\n",
    "The table below summarizes the qubit states Alice sends, based on the bit of Alice's `alice_bitstring` the corresponding bit of `selected_bases`:\n",
    "\n",
    "| Bit in `alice_bitstring` | Corresponding bit in `alice_bases` | Encoding basis | Qubit state sent |\n",
    "|:----------------:|:--------------------------:|:--------------------------:|:---------------:|\n",
    "| 0 | 0 | $$|0\\rangle,|1\\rangle$$ |$$|0\\rangle$$ |\n",
    "| 0 | 1 | $$|+\\rangle,|-\\rangle$$ |$$|+\\rangle$$ |\n",
    "| 1 | 0 | $$|0\\rangle,|1\\rangle$$ |$$|1\\rangle$$ |\n",
    "| 1 | 1 | $$|+\\rangle,|-\\rangle$$ |$$|-\\rangle$$ |"
   ]
  },
  {
   "cell_type": "code",
   "execution_count": 11,
   "metadata": {
    "id": "dp1tvEV-F7oq"
   },
   "outputs": [],
   "source": [
    "#BLOCK 4 - Define a function to encode Alice's qubits                   \n",
    "                   \n",
    "def encode(alice_bitstring, alice_bases): # Add inputs\n",
    "    encoded_qubits = []\n",
    "    # Add a for loop to go through our 500 bits/basis\n",
    "    for i in range(500):\n",
    "        qc = QuantumCircuit(1)\n",
    "# Add conditionals for each bit/basis case\n",
    "        if alice_bases[i] == \"0\":\n",
    "            if alice_bitstring[i] == \"0\":\n",
    "                pass\n",
    "            elif alice_bitstring[i] == \"1\":\n",
    "                qc.x(0)\n",
    "# Make a new quantum circuit for each element\n",
    "\n",
    "        elif alice_bases[i] == \"1\":\n",
    "            if alice_bitstring[i] == \"0\":\n",
    "                qc.h(0)\n",
    "            elif alice_bitstring[i] == \"1\":\n",
    "                qc.x(0)\n",
    "                qc.h(0)\n",
    "# Append the circuit to encoded_qubits\n",
    "        encoded_qubits.append(qc) \n",
    "        \n",
    "    return encoded_qubits\n"
   ]
  },
  {
   "cell_type": "code",
   "execution_count": 12,
   "metadata": {
    "id": "qH9ui_b8F7oq"
   },
   "outputs": [
    {
     "name": "stdout",
     "output_type": "stream",
     "text": [
      "1\n",
      "1\n"
     ]
    },
    {
     "data": {
      "image/png": "[encoded data removed]",
      "text/plain": [
       "<Figure size 193.726x84.28 with 1 Axes>"
      ]
     },
     "execution_count": 12,
     "metadata": {},
     "output_type": "execute_result"
    }
   ],
   "source": [
    "# BLOCK 5  - call the encode function to create the encoded qubits\n",
    "\n",
    "qubits = encode(alice_bitstring, alice_bases)\n",
    "print(alice_bitstring[1])\n",
    "print(alice_bases[1])\n",
    "qubits[1].draw()"
   ]
  },
  {
   "cell_type": "markdown",
   "metadata": {
    "id": "xYzpQgrqF7oq"
   },
   "source": [
    "# Step 4 - Alice sends qubits to Bob\n",
    "\n",
    "### There's nothing we need to code here. Alice would send the qubits to Bob (maybe through a fiber optic cable)"
   ]
  },
  {
   "cell_type": "markdown",
   "metadata": {
    "id": "Xvb9ClNPF7or"
   },
   "source": [
    "# Step 5 - Bob randomly picks the bases he will use to measure Alice's qubits\n"
   ]
  },
  {
   "cell_type": "code",
   "execution_count": 13,
   "metadata": {
    "id": "RtMPfw7nF7or",
    "outputId": "79004e69-473e-4767-cb0d-fd9b1aff5619"
   },
   "outputs": [
    {
     "data": {
      "text/plain": [
       "'10111100001100111000000111101101110101111000110100011001000110111000011111101100111001111011011100111111100101001010111000010110110010111101111000110111111111000001010010010000101100011100010011100010000111011011111101010110111000110000010010110100110111011000001010101110000101101001001001010000101010101011000011011000001100001011101110000001100001110111001110010100001111110110000111011011110101101110110101101111111000001011011101110010100111111000000001000010010110100001110011100100000110100011'"
      ]
     },
     "execution_count": 13,
     "metadata": {},
     "output_type": "execute_result"
    }
   ],
   "source": [
    "#BLOCK 6  - generate Bob's bases\n",
    "\n",
    "bob_bases = \"\"\n",
    "    \n",
    "for i in range(500):\n",
    "    bob_bases += str(getrandbits(1))\n",
    "\n",
    "bob_bases\n",
    "\n"
   ]
  },
  {
   "cell_type": "markdown",
   "metadata": {
    "id": "OEjdMHN4F7os"
   },
   "source": [
    "## Step 6 & 7 - Bob makes measurements and converts qubits into bits\n",
    "\n",
    "Bob now has to measure the qubits in a the random bases that he chose in part 2"
   ]
  },
  {
   "cell_type": "code",
   "execution_count": 27,
   "metadata": {
    "id": "UQbVmyuZF7os"
   },
   "outputs": [],
   "source": [
    "#BLOCK 7 - define a function to measure Alice's qubits\n",
    "\n",
    "def measure(bob_bases, encoded_qubits):\n",
    "    \n",
    "    # Create a list to store the measurements\n",
    "    bob_bitstring = ''\n",
    "    \n",
    "    # Add a for loop to go through our bitstrings\n",
    "    for i in range(len(encoded_qubits)):\n",
    "        qc = encoded_qubits[i]\n",
    "\n",
    "        # Add conditionals for our measurement cases\n",
    "        if bob_bases[i] == \"0\":\n",
    "            qc.measure_all()\n",
    "            \n",
    "        elif bob_bases[i] == \"1\":\n",
    "            qc.h(0)\n",
    "            qc.measure_all()\n",
    "\n",
    "        \n",
    "        # Now that the measurements have been added to the circuit, let's run them.\n",
    "        job = execute(qc, backend=Aer.get_backend('qasm_simulator'), shots = 1) \n",
    "        results = job.result()\n",
    "        counts = results.get_counts()\n",
    "        measured_bit = max(counts, key=counts.get)\n",
    "\n",
    "        # Append measured bit to Bob's measured bitstring\n",
    "        bob_bitstring += measured_bit\n",
    "        \n",
    "        \n",
    "    return bob_bitstring\n"
   ]
  },
  {
   "cell_type": "code",
   "execution_count": 28,
   "metadata": {
    "id": "wi8WmXAHF7ov",
    "outputId": "a09ebc6c-aac2-419d-f7da-7181bc4ca507"
   },
   "outputs": [
    {
     "data": {
      "text/plain": [
       "'11100110001000110000111101100111101100001101111000110101011101111011000111111111011100111101011101001111000100011000111101111101111100111000011001011101101011000000110100000100111000111110110001101100101001001000111001110111001011100010010100011000110011000011010101010011010000111111000000111001010110110111000011011110110110010110101000111000110100101010001110110001011101110110110111010010000001100111001011000100011010100010011110011010001101100110001100010001010110111110000110110011001010101000'"
      ]
     },
     "execution_count": 28,
     "metadata": {},
     "output_type": "execute_result"
    }
   ],
   "source": [
    "# BLOCK 8 - call the measure function\n",
    "\n",
    "bob_bitstring = measure(bob_bases, qubits)\n",
    "bob_bitstring"
   ]
  },
  {
   "cell_type": "markdown",
   "metadata": {
    "id": "4hisVrQ8F7ow"
   },
   "source": [
    "## Step 8 - Alice and Bob compare their bases"
   ]
  },
  {
   "cell_type": "code",
   "execution_count": 33,
   "metadata": {
    "id": "8lBNxnSXF7ow"
   },
   "outputs": [],
   "source": [
    "#BLOCK 9 - Define a function for Alice and Bob to compare their bases\n",
    "\n",
    "def compare_bases(alice_bases, bob_bases): # Add the inputs\n",
    "    indices = []\n",
    "    \n",
    "    for i in range(len(alice_bases)):\n",
    "        # Append the index if the bases are the same\n",
    "        if alice_bases[i] == bob_bases[i]:\n",
    "            indices.append(i)\n",
    "        \n",
    "    return indices"
   ]
  },
  {
   "cell_type": "code",
   "execution_count": 34,
   "metadata": {
    "id": "WxNX6huXF7ox",
    "outputId": "bd1b45a8-ac3e-492b-f973-e6b4b6a67365"
   },
   "outputs": [
    {
     "data": {
      "text/plain": [
       "256"
      ]
     },
     "execution_count": 34,
     "metadata": {},
     "output_type": "execute_result"
    }
   ],
   "source": [
    "#BLOCK 10  - call the function to find the agreeing bases\n",
    "\n",
    "agreeing_bases = compare_bases(alice_bases, bob_bases)\n",
    "len(agreeing_bases)"
   ]
  },
  {
   "cell_type": "markdown",
   "metadata": {
    "id": "oZIXbTgLF7oy"
   },
   "source": [
    "## Step 9 - Alice and Bob generate their key\n"
   ]
  },
  {
   "cell_type": "code",
   "execution_count": 35,
   "metadata": {
    "id": "f3Rv9XmsF7oy",
    "outputId": "f1825848-a9a9-4c4c-b2e4-319c62e5931d"
   },
   "outputs": [
    {
     "name": "stdout",
     "output_type": "stream",
     "text": [
      "1010000001110100011001100111111101111011100101101111011100100110011110100011000010011100101100101100001000111011101000111011110101011011110000001011000011111110011110100111001110011101011110100110011010011100010111101001000110000101010111000011011001101000\n"
     ]
    }
   ],
   "source": [
    "#BLOCK 11 - create Alice's key\n",
    "\n",
    "alice_key = ''\n",
    "for index in agreeing_bases:\n",
    "    alice_key = alice_key + alice_bitstring[index]\n",
    "    \n",
    "print(alice_key)\n"
   ]
  },
  {
   "cell_type": "code",
   "execution_count": 37,
   "metadata": {
    "id": "4LH7dhHSF7oz",
    "outputId": "5c61b0bd-dc45-4a0a-8e34-158a3fddd1ff"
   },
   "outputs": [
    {
     "name": "stdout",
     "output_type": "stream",
     "text": [
      "1010000001110100011001100111111101111011100101101111011100100110011110100011000010011100101100101100001000111011101000111011110101011011110000001011000011111110011110100111001110011101011110100110011010011100010111101001000110000101010111000011011001101000\n"
     ]
    }
   ],
   "source": [
    "#BLOCK 12 - create Bob's key\n",
    "bob_key = ''\n",
    "for index in agreeing_bases:\n",
    "    bob_key = bob_key + bob_bitstring[index]\n",
    "print(bob_key)\n"
   ]
  },
  {
   "cell_type": "code",
   "execution_count": 38,
   "metadata": {
    "id": "4yl-g3tLF7oz",
    "outputId": "eb797db7-62c3-428c-e805-3ee04d65d320"
   },
   "outputs": [
    {
     "name": "stdout",
     "output_type": "stream",
     "text": [
      "1010000001\n",
      "1010000001\n",
      "True\n"
     ]
    }
   ],
   "source": [
    "#BLOCK 13 - we can see that these keys are the same\n",
    "print(alice_key[:10])\n",
    "print(bob_key[:10])\n",
    "print(alice_key == bob_key)\n"
   ]
  },
  {
   "cell_type": "markdown",
   "metadata": {
    "id": "-7Sd_7ywF7oz"
   },
   "source": [
    "## Optional content - Encrypting and decrypting messages"
   ]
  },
  {
   "cell_type": "code",
   "execution_count": 39,
   "metadata": {
    "id": "4zbwspoqF7o0"
   },
   "outputs": [],
   "source": [
    "# BLOCK 14\n",
    "\n",
    "import binascii\n",
    "\n",
    "def encrypt_message(unencrypted_string, key):\n",
    "    # Convert ascii string to binary string\n",
    "    bits = bin(int(binascii.hexlify(unencrypted_string.encode('utf-8', 'surrogatepass')), 16))[2:]\n",
    "    bitstring = bits.zfill(8 * ((len(bits) + 7) // 8))\n",
    "    # created the encrypted string using the key\n",
    "    encrypted_string = \"\"\n",
    "    for i in range(len(bitstring)):\n",
    "        encrypted_string += str( (int(bitstring[i])^ int(key[i])) )\n",
    "    return encrypted_string\n",
    "    \n",
    "def decrypt_message(encrypted_bits, key):\n",
    "    # created the unencrypted string using the key\n",
    "    unencrypted_bits = \"\"\n",
    "    for i in range(len(encrypted_bits)):\n",
    "        unencrypted_bits += str( (int(encrypted_bits[i])^ int(key[i])) )\n",
    "    # Convert bitstring into\n",
    "    i = int(unencrypted_bits, 2)\n",
    "    hex_string = '%x' % i\n",
    "    n = len(hex_string)\n",
    "    bits = binascii.unhexlify(hex_string.zfill(n + (n & 1)))\n",
    "    unencrypted_string = bits.decode('utf-8', 'surrogatepass')\n",
    "    return unencrypted_string"
   ]
  },
  {
   "cell_type": "code",
   "execution_count": 40,
   "metadata": {
    "id": "eSEyHmjUF7o0"
   },
   "outputs": [
    {
     "name": "stdout",
     "output_type": "stream",
     "text": [
      "Original Messge: QKD is cool!\n",
      "Encrypted message: 111100010011111100100010010111110001001011100101110101110100010100010101010111111111000010010011\n",
      "Decrypted message: QKD is cool!\n"
     ]
    }
   ],
   "source": [
    "# BLOCK 15\n",
    "\n",
    "message = \"QKD is cool!\"\n",
    "print(\"Original Messge:\", message)\n",
    "encrypted_message = encrypt_message(message, alice_key)\n",
    "print(\"Encrypted message:\", encrypted_message)\n",
    "decrypted_message = decrypt_message(encrypted_message, bob_key)\n",
    "print(\"Decrypted message:\", decrypted_message)"
   ]
  },
  {
   "cell_type": "code",
   "execution_count": null,
   "metadata": {},
   "outputs": [],
   "source": []
  }
 ],
 "metadata": {
  "colab": {
   "name": "Week 3 Day 3-4 v2.ipynb",
   "provenance": []
  },
  "kernelspec": {
   "display_name": "Python 3",
   "language": "python",
   "name": "python3"
  },
  "language_info": {
   "codemirror_mode": {
    "name": "ipython",
    "version": 3
   },
   "file_extension": ".py",
   "mimetype": "text/x-python",
   "name": "python",
   "nbconvert_exporter": "python",
   "pygments_lexer": "ipython3",
   "version": "3.8.10"
  }
 },
 "nbformat": 4,
 "nbformat_minor": 1
}
